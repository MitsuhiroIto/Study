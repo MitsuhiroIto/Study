{
 "cells": [
  {
   "cell_type": "markdown",
   "metadata": {},
   "source": [
    "# Transfer Learningのお勉強\n",
    "\n",
    "*20170621 Mitsuhiro Ito*\n",
    "\n",
    "自分で書いてみよう！  \n",
    "目標　高精度な犬猫を分類するモデルの構築\n",
    "\n",
    "* [keras公式ブログ](https://blog.keras.io/building-powerful-image-classification-models-using-very-little-data.html)\n",
    "* [keras公式ドキュメント](https://keras.io/applications)\n",
    "* [@aidiaryさんの記事](http://aidiary.hatenablog.com/entry/20170110/1484057655)\n",
    "\n",
    "---"
   ]
  },
  {
   "cell_type": "markdown",
   "metadata": {},
   "source": [
    "# 1. 前準備"
   ]
  },
  {
   "cell_type": "code",
   "execution_count": 1,
   "metadata": {
    "collapsed": true
   },
   "outputs": [],
   "source": [
    "from __future__ import print_function, division\n",
    "%matplotlib inline\n",
    "import numpy as np\n",
    "import matplotlib.pyplot as plt"
   ]
  },
  {
   "cell_type": "code",
   "execution_count": 2,
   "metadata": {
    "collapsed": true
   },
   "outputs": [],
   "source": [
    "import sys\n",
    "sys.path.append('/Users/mitsuhiro/Work/intro_machine_learning')\n",
    "from utils import save_model_viz, save_weights, save_hist, plot_hist\n",
    "from utils import load_mnist_3D"
   ]
  },
  {
   "cell_type": "markdown",
   "metadata": {},
   "source": [
    "# 2. 画像ファイルの入手"
   ]
  },
  {
   "cell_type": "markdown",
   "metadata": {},
   "source": [
    "\n",
    "犬猫データはKaggleからゲットしました  \n",
    "登録がめんどくさいです  \n",
    "https://www.kaggle.com/c/dogs-vs-cats/data\n"
   ]
  },
  {
   "cell_type": "markdown",
   "metadata": {},
   "source": [
    "次に画像ファイルをtrain用1000枚、validation用400枚に分けます"
   ]
  },
  {
   "cell_type": "code",
   "execution_count": 68,
   "metadata": {
    "collapsed": true
   },
   "outputs": [],
   "source": [
    "import os"
   ]
  },
  {
   "cell_type": "code",
   "execution_count": 87,
   "metadata": {
    "collapsed": true
   },
   "outputs": [],
   "source": [
    "source_dir = \"/Users/mitsuhiro/Work/train\"　#画像ファイルへのpath"
   ]
  },
  {
   "cell_type": "code",
   "execution_count": 89,
   "metadata": {
    "collapsed": true
   },
   "outputs": [],
   "source": [
    "os.makedirs(\"%s/data\" % \"/Users/mitsuhiro/Work\")　#train、valid用のフォルダを順次作成\n",
    "data_dir = \"/Users/mitsuhiro/Work/data\""
   ]
  },
  {
   "cell_type": "code",
   "execution_count": 90,
   "metadata": {
    "collapsed": true
   },
   "outputs": [],
   "source": [
    "os.makedirs(\"%s/train\" % data_dir)\n",
    "os.makedirs(\"%s/valid\" % data_dir)\n",
    "train_dir = \"/Users/mitsuhiro/Work/data/train\"\n",
    "valid_dir = \"/Users/mitsuhiro/Work/data/valid\""
   ]
  },
  {
   "cell_type": "code",
   "execution_count": 91,
   "metadata": {
    "collapsed": true,
    "scrolled": true
   },
   "outputs": [],
   "source": [
    "os.makedirs(\"%s/dogs\" % train_dir)\n",
    "os.makedirs(\"%s/cats\" % train_dir)\n",
    "os.makedirs(\"%s/dogs\" % valid_dir)\n",
    "os.makedirs(\"%s/cats\" % valid_dir)"
   ]
  },
  {
   "cell_type": "code",
   "execution_count": 92,
   "metadata": {
    "collapsed": true
   },
   "outputs": [],
   "source": [
    "for i in range(1000):　#train用画像ファイルを移動\n",
    "    os.rename(\"%s/dog.%d.jpg\" % (source_dir, i + 1),\n",
    "              \"%s/dogs/dog%04d.jpg\" % (train_dir, i + 1))\n",
    "    os.rename(\"%s/cat.%d.jpg\" % (source_dir, i + 1),\n",
    "              \"%s/cats/cat%04d.jpg\" % (train_dir, i + 1))"
   ]
  },
  {
   "cell_type": "code",
   "execution_count": 93,
   "metadata": {},
   "outputs": [
    {
     "name": "stdout",
     "output_type": "stream",
     "text": [
      "cat0001.jpg  cat0168.jpg  cat0335.jpg  cat0502.jpg  cat0669.jpg  cat0836.jpg\r\n",
      "cat0002.jpg  cat0169.jpg  cat0336.jpg  cat0503.jpg  cat0670.jpg  cat0837.jpg\r\n",
      "cat0003.jpg  cat0170.jpg  cat0337.jpg  cat0504.jpg  cat0671.jpg  cat0838.jpg\r\n",
      "cat0004.jpg  cat0171.jpg  cat0338.jpg  cat0505.jpg  cat0672.jpg  cat0839.jpg\r\n",
      "cat0005.jpg  cat0172.jpg  cat0339.jpg  cat0506.jpg  cat0673.jpg  cat0840.jpg\r\n",
      "cat0006.jpg  cat0173.jpg  cat0340.jpg  cat0507.jpg  cat0674.jpg  cat0841.jpg\r\n",
      "cat0007.jpg  cat0174.jpg  cat0341.jpg  cat0508.jpg  cat0675.jpg  cat0842.jpg\r\n",
      "cat0008.jpg  cat0175.jpg  cat0342.jpg  cat0509.jpg  cat0676.jpg  cat0843.jpg\r\n",
      "cat0009.jpg  cat0176.jpg  cat0343.jpg  cat0510.jpg  cat0677.jpg  cat0844.jpg\r\n",
      "cat0010.jpg  cat0177.jpg  cat0344.jpg  cat0511.jpg  cat0678.jpg  cat0845.jpg\r\n",
      "cat0011.jpg  cat0178.jpg  cat0345.jpg  cat0512.jpg  cat0679.jpg  cat0846.jpg\r\n",
      "cat0012.jpg  cat0179.jpg  cat0346.jpg  cat0513.jpg  cat0680.jpg  cat0847.jpg\r\n",
      "cat0013.jpg  cat0180.jpg  cat0347.jpg  cat0514.jpg  cat0681.jpg  cat0848.jpg\r\n",
      "cat0014.jpg  cat0181.jpg  cat0348.jpg  cat0515.jpg  cat0682.jpg  cat0849.jpg\r\n",
      "cat0015.jpg  cat0182.jpg  cat0349.jpg  cat0516.jpg  cat0683.jpg  cat0850.jpg\r\n",
      "cat0016.jpg  cat0183.jpg  cat0350.jpg  cat0517.jpg  cat0684.jpg  cat0851.jpg\r\n",
      "cat0017.jpg  cat0184.jpg  cat0351.jpg  cat0518.jpg  cat0685.jpg  cat0852.jpg\r\n",
      "cat0018.jpg  cat0185.jpg  cat0352.jpg  cat0519.jpg  cat0686.jpg  cat0853.jpg\r\n",
      "cat0019.jpg  cat0186.jpg  cat0353.jpg  cat0520.jpg  cat0687.jpg  cat0854.jpg\r\n",
      "cat0020.jpg  cat0187.jpg  cat0354.jpg  cat0521.jpg  cat0688.jpg  cat0855.jpg\r\n",
      "cat0021.jpg  cat0188.jpg  cat0355.jpg  cat0522.jpg  cat0689.jpg  cat0856.jpg\r\n",
      "cat0022.jpg  cat0189.jpg  cat0356.jpg  cat0523.jpg  cat0690.jpg  cat0857.jpg\r\n",
      "cat0023.jpg  cat0190.jpg  cat0357.jpg  cat0524.jpg  cat0691.jpg  cat0858.jpg\r\n",
      "cat0024.jpg  cat0191.jpg  cat0358.jpg  cat0525.jpg  cat0692.jpg  cat0859.jpg\r\n",
      "cat0025.jpg  cat0192.jpg  cat0359.jpg  cat0526.jpg  cat0693.jpg  cat0860.jpg\r\n",
      "cat0026.jpg  cat0193.jpg  cat0360.jpg  cat0527.jpg  cat0694.jpg  cat0861.jpg\r\n",
      "cat0027.jpg  cat0194.jpg  cat0361.jpg  cat0528.jpg  cat0695.jpg  cat0862.jpg\r\n",
      "cat0028.jpg  cat0195.jpg  cat0362.jpg  cat0529.jpg  cat0696.jpg  cat0863.jpg\r\n",
      "cat0029.jpg  cat0196.jpg  cat0363.jpg  cat0530.jpg  cat0697.jpg  cat0864.jpg\r\n",
      "cat0030.jpg  cat0197.jpg  cat0364.jpg  cat0531.jpg  cat0698.jpg  cat0865.jpg\r\n",
      "cat0031.jpg  cat0198.jpg  cat0365.jpg  cat0532.jpg  cat0699.jpg  cat0866.jpg\r\n",
      "cat0032.jpg  cat0199.jpg  cat0366.jpg  cat0533.jpg  cat0700.jpg  cat0867.jpg\r\n",
      "cat0033.jpg  cat0200.jpg  cat0367.jpg  cat0534.jpg  cat0701.jpg  cat0868.jpg\r\n",
      "cat0034.jpg  cat0201.jpg  cat0368.jpg  cat0535.jpg  cat0702.jpg  cat0869.jpg\r\n",
      "cat0035.jpg  cat0202.jpg  cat0369.jpg  cat0536.jpg  cat0703.jpg  cat0870.jpg\r\n",
      "cat0036.jpg  cat0203.jpg  cat0370.jpg  cat0537.jpg  cat0704.jpg  cat0871.jpg\r\n",
      "cat0037.jpg  cat0204.jpg  cat0371.jpg  cat0538.jpg  cat0705.jpg  cat0872.jpg\r\n",
      "cat0038.jpg  cat0205.jpg  cat0372.jpg  cat0539.jpg  cat0706.jpg  cat0873.jpg\r\n",
      "cat0039.jpg  cat0206.jpg  cat0373.jpg  cat0540.jpg  cat0707.jpg  cat0874.jpg\r\n",
      "cat0040.jpg  cat0207.jpg  cat0374.jpg  cat0541.jpg  cat0708.jpg  cat0875.jpg\r\n",
      "cat0041.jpg  cat0208.jpg  cat0375.jpg  cat0542.jpg  cat0709.jpg  cat0876.jpg\r\n",
      "cat0042.jpg  cat0209.jpg  cat0376.jpg  cat0543.jpg  cat0710.jpg  cat0877.jpg\r\n",
      "cat0043.jpg  cat0210.jpg  cat0377.jpg  cat0544.jpg  cat0711.jpg  cat0878.jpg\r\n",
      "cat0044.jpg  cat0211.jpg  cat0378.jpg  cat0545.jpg  cat0712.jpg  cat0879.jpg\r\n",
      "cat0045.jpg  cat0212.jpg  cat0379.jpg  cat0546.jpg  cat0713.jpg  cat0880.jpg\r\n",
      "cat0046.jpg  cat0213.jpg  cat0380.jpg  cat0547.jpg  cat0714.jpg  cat0881.jpg\r\n",
      "cat0047.jpg  cat0214.jpg  cat0381.jpg  cat0548.jpg  cat0715.jpg  cat0882.jpg\r\n",
      "cat0048.jpg  cat0215.jpg  cat0382.jpg  cat0549.jpg  cat0716.jpg  cat0883.jpg\r\n",
      "cat0049.jpg  cat0216.jpg  cat0383.jpg  cat0550.jpg  cat0717.jpg  cat0884.jpg\r\n",
      "cat0050.jpg  cat0217.jpg  cat0384.jpg  cat0551.jpg  cat0718.jpg  cat0885.jpg\r\n",
      "cat0051.jpg  cat0218.jpg  cat0385.jpg  cat0552.jpg  cat0719.jpg  cat0886.jpg\r\n",
      "cat0052.jpg  cat0219.jpg  cat0386.jpg  cat0553.jpg  cat0720.jpg  cat0887.jpg\r\n",
      "cat0053.jpg  cat0220.jpg  cat0387.jpg  cat0554.jpg  cat0721.jpg  cat0888.jpg\r\n",
      "cat0054.jpg  cat0221.jpg  cat0388.jpg  cat0555.jpg  cat0722.jpg  cat0889.jpg\r\n",
      "cat0055.jpg  cat0222.jpg  cat0389.jpg  cat0556.jpg  cat0723.jpg  cat0890.jpg\r\n",
      "cat0056.jpg  cat0223.jpg  cat0390.jpg  cat0557.jpg  cat0724.jpg  cat0891.jpg\r\n",
      "cat0057.jpg  cat0224.jpg  cat0391.jpg  cat0558.jpg  cat0725.jpg  cat0892.jpg\r\n",
      "cat0058.jpg  cat0225.jpg  cat0392.jpg  cat0559.jpg  cat0726.jpg  cat0893.jpg\r\n",
      "cat0059.jpg  cat0226.jpg  cat0393.jpg  cat0560.jpg  cat0727.jpg  cat0894.jpg\r\n",
      "cat0060.jpg  cat0227.jpg  cat0394.jpg  cat0561.jpg  cat0728.jpg  cat0895.jpg\r\n",
      "cat0061.jpg  cat0228.jpg  cat0395.jpg  cat0562.jpg  cat0729.jpg  cat0896.jpg\r\n",
      "cat0062.jpg  cat0229.jpg  cat0396.jpg  cat0563.jpg  cat0730.jpg  cat0897.jpg\r\n",
      "cat0063.jpg  cat0230.jpg  cat0397.jpg  cat0564.jpg  cat0731.jpg  cat0898.jpg\r\n",
      "cat0064.jpg  cat0231.jpg  cat0398.jpg  cat0565.jpg  cat0732.jpg  cat0899.jpg\r\n",
      "cat0065.jpg  cat0232.jpg  cat0399.jpg  cat0566.jpg  cat0733.jpg  cat0900.jpg\r\n",
      "cat0066.jpg  cat0233.jpg  cat0400.jpg  cat0567.jpg  cat0734.jpg  cat0901.jpg\r\n",
      "cat0067.jpg  cat0234.jpg  cat0401.jpg  cat0568.jpg  cat0735.jpg  cat0902.jpg\r\n",
      "cat0068.jpg  cat0235.jpg  cat0402.jpg  cat0569.jpg  cat0736.jpg  cat0903.jpg\r\n",
      "cat0069.jpg  cat0236.jpg  cat0403.jpg  cat0570.jpg  cat0737.jpg  cat0904.jpg\r\n",
      "cat0070.jpg  cat0237.jpg  cat0404.jpg  cat0571.jpg  cat0738.jpg  cat0905.jpg\r\n",
      "cat0071.jpg  cat0238.jpg  cat0405.jpg  cat0572.jpg  cat0739.jpg  cat0906.jpg\r\n",
      "cat0072.jpg  cat0239.jpg  cat0406.jpg  cat0573.jpg  cat0740.jpg  cat0907.jpg\r\n",
      "cat0073.jpg  cat0240.jpg  cat0407.jpg  cat0574.jpg  cat0741.jpg  cat0908.jpg\r\n",
      "cat0074.jpg  cat0241.jpg  cat0408.jpg  cat0575.jpg  cat0742.jpg  cat0909.jpg\r\n",
      "cat0075.jpg  cat0242.jpg  cat0409.jpg  cat0576.jpg  cat0743.jpg  cat0910.jpg\r\n",
      "cat0076.jpg  cat0243.jpg  cat0410.jpg  cat0577.jpg  cat0744.jpg  cat0911.jpg\r\n",
      "cat0077.jpg  cat0244.jpg  cat0411.jpg  cat0578.jpg  cat0745.jpg  cat0912.jpg\r\n",
      "cat0078.jpg  cat0245.jpg  cat0412.jpg  cat0579.jpg  cat0746.jpg  cat0913.jpg\r\n",
      "cat0079.jpg  cat0246.jpg  cat0413.jpg  cat0580.jpg  cat0747.jpg  cat0914.jpg\r\n",
      "cat0080.jpg  cat0247.jpg  cat0414.jpg  cat0581.jpg  cat0748.jpg  cat0915.jpg\r\n",
      "cat0081.jpg  cat0248.jpg  cat0415.jpg  cat0582.jpg  cat0749.jpg  cat0916.jpg\r\n",
      "cat0082.jpg  cat0249.jpg  cat0416.jpg  cat0583.jpg  cat0750.jpg  cat0917.jpg\r\n",
      "cat0083.jpg  cat0250.jpg  cat0417.jpg  cat0584.jpg  cat0751.jpg  cat0918.jpg\r\n",
      "cat0084.jpg  cat0251.jpg  cat0418.jpg  cat0585.jpg  cat0752.jpg  cat0919.jpg\r\n",
      "cat0085.jpg  cat0252.jpg  cat0419.jpg  cat0586.jpg  cat0753.jpg  cat0920.jpg\r\n",
      "cat0086.jpg  cat0253.jpg  cat0420.jpg  cat0587.jpg  cat0754.jpg  cat0921.jpg\r\n",
      "cat0087.jpg  cat0254.jpg  cat0421.jpg  cat0588.jpg  cat0755.jpg  cat0922.jpg\r\n",
      "cat0088.jpg  cat0255.jpg  cat0422.jpg  cat0589.jpg  cat0756.jpg  cat0923.jpg\r\n",
      "cat0089.jpg  cat0256.jpg  cat0423.jpg  cat0590.jpg  cat0757.jpg  cat0924.jpg\r\n",
      "cat0090.jpg  cat0257.jpg  cat0424.jpg  cat0591.jpg  cat0758.jpg  cat0925.jpg\r\n",
      "cat0091.jpg  cat0258.jpg  cat0425.jpg  cat0592.jpg  cat0759.jpg  cat0926.jpg\r\n",
      "cat0092.jpg  cat0259.jpg  cat0426.jpg  cat0593.jpg  cat0760.jpg  cat0927.jpg\r\n",
      "cat0093.jpg  cat0260.jpg  cat0427.jpg  cat0594.jpg  cat0761.jpg  cat0928.jpg\r\n",
      "cat0094.jpg  cat0261.jpg  cat0428.jpg  cat0595.jpg  cat0762.jpg  cat0929.jpg\r\n",
      "cat0095.jpg  cat0262.jpg  cat0429.jpg  cat0596.jpg  cat0763.jpg  cat0930.jpg\r\n",
      "cat0096.jpg  cat0263.jpg  cat0430.jpg  cat0597.jpg  cat0764.jpg  cat0931.jpg\r\n",
      "cat0097.jpg  cat0264.jpg  cat0431.jpg  cat0598.jpg  cat0765.jpg  cat0932.jpg\r\n",
      "cat0098.jpg  cat0265.jpg  cat0432.jpg  cat0599.jpg  cat0766.jpg  cat0933.jpg\r\n",
      "cat0099.jpg  cat0266.jpg  cat0433.jpg  cat0600.jpg  cat0767.jpg  cat0934.jpg\r\n",
      "cat0100.jpg  cat0267.jpg  cat0434.jpg  cat0601.jpg  cat0768.jpg  cat0935.jpg\r\n",
      "cat0101.jpg  cat0268.jpg  cat0435.jpg  cat0602.jpg  cat0769.jpg  cat0936.jpg\r\n",
      "cat0102.jpg  cat0269.jpg  cat0436.jpg  cat0603.jpg  cat0770.jpg  cat0937.jpg\r\n",
      "cat0103.jpg  cat0270.jpg  cat0437.jpg  cat0604.jpg  cat0771.jpg  cat0938.jpg\r\n",
      "cat0104.jpg  cat0271.jpg  cat0438.jpg  cat0605.jpg  cat0772.jpg  cat0939.jpg\r\n",
      "cat0105.jpg  cat0272.jpg  cat0439.jpg  cat0606.jpg  cat0773.jpg  cat0940.jpg\r\n",
      "cat0106.jpg  cat0273.jpg  cat0440.jpg  cat0607.jpg  cat0774.jpg  cat0941.jpg\r\n",
      "cat0107.jpg  cat0274.jpg  cat0441.jpg  cat0608.jpg  cat0775.jpg  cat0942.jpg\r\n",
      "cat0108.jpg  cat0275.jpg  cat0442.jpg  cat0609.jpg  cat0776.jpg  cat0943.jpg\r\n",
      "cat0109.jpg  cat0276.jpg  cat0443.jpg  cat0610.jpg  cat0777.jpg  cat0944.jpg\r\n",
      "cat0110.jpg  cat0277.jpg  cat0444.jpg  cat0611.jpg  cat0778.jpg  cat0945.jpg\r\n",
      "cat0111.jpg  cat0278.jpg  cat0445.jpg  cat0612.jpg  cat0779.jpg  cat0946.jpg\r\n",
      "cat0112.jpg  cat0279.jpg  cat0446.jpg  cat0613.jpg  cat0780.jpg  cat0947.jpg\r\n",
      "cat0113.jpg  cat0280.jpg  cat0447.jpg  cat0614.jpg  cat0781.jpg  cat0948.jpg\r\n",
      "cat0114.jpg  cat0281.jpg  cat0448.jpg  cat0615.jpg  cat0782.jpg  cat0949.jpg\r\n",
      "cat0115.jpg  cat0282.jpg  cat0449.jpg  cat0616.jpg  cat0783.jpg  cat0950.jpg\r\n",
      "cat0116.jpg  cat0283.jpg  cat0450.jpg  cat0617.jpg  cat0784.jpg  cat0951.jpg\r\n",
      "cat0117.jpg  cat0284.jpg  cat0451.jpg  cat0618.jpg  cat0785.jpg  cat0952.jpg\r\n",
      "cat0118.jpg  cat0285.jpg  cat0452.jpg  cat0619.jpg  cat0786.jpg  cat0953.jpg\r\n",
      "cat0119.jpg  cat0286.jpg  cat0453.jpg  cat0620.jpg  cat0787.jpg  cat0954.jpg\r\n",
      "cat0120.jpg  cat0287.jpg  cat0454.jpg  cat0621.jpg  cat0788.jpg  cat0955.jpg\r\n",
      "cat0121.jpg  cat0288.jpg  cat0455.jpg  cat0622.jpg  cat0789.jpg  cat0956.jpg\r\n",
      "cat0122.jpg  cat0289.jpg  cat0456.jpg  cat0623.jpg  cat0790.jpg  cat0957.jpg\r\n",
      "cat0123.jpg  cat0290.jpg  cat0457.jpg  cat0624.jpg  cat0791.jpg  cat0958.jpg\r\n",
      "cat0124.jpg  cat0291.jpg  cat0458.jpg  cat0625.jpg  cat0792.jpg  cat0959.jpg\r\n",
      "cat0125.jpg  cat0292.jpg  cat0459.jpg  cat0626.jpg  cat0793.jpg  cat0960.jpg\r\n",
      "cat0126.jpg  cat0293.jpg  cat0460.jpg  cat0627.jpg  cat0794.jpg  cat0961.jpg\r\n",
      "cat0127.jpg  cat0294.jpg  cat0461.jpg  cat0628.jpg  cat0795.jpg  cat0962.jpg\r\n",
      "cat0128.jpg  cat0295.jpg  cat0462.jpg  cat0629.jpg  cat0796.jpg  cat0963.jpg\r\n",
      "cat0129.jpg  cat0296.jpg  cat0463.jpg  cat0630.jpg  cat0797.jpg  cat0964.jpg\r\n",
      "cat0130.jpg  cat0297.jpg  cat0464.jpg  cat0631.jpg  cat0798.jpg  cat0965.jpg\r\n",
      "cat0131.jpg  cat0298.jpg  cat0465.jpg  cat0632.jpg  cat0799.jpg  cat0966.jpg\r\n",
      "cat0132.jpg  cat0299.jpg  cat0466.jpg  cat0633.jpg  cat0800.jpg  cat0967.jpg\r\n",
      "cat0133.jpg  cat0300.jpg  cat0467.jpg  cat0634.jpg  cat0801.jpg  cat0968.jpg\r\n",
      "cat0134.jpg  cat0301.jpg  cat0468.jpg  cat0635.jpg  cat0802.jpg  cat0969.jpg\r\n",
      "cat0135.jpg  cat0302.jpg  cat0469.jpg  cat0636.jpg  cat0803.jpg  cat0970.jpg\r\n",
      "cat0136.jpg  cat0303.jpg  cat0470.jpg  cat0637.jpg  cat0804.jpg  cat0971.jpg\r\n",
      "cat0137.jpg  cat0304.jpg  cat0471.jpg  cat0638.jpg  cat0805.jpg  cat0972.jpg\r\n",
      "cat0138.jpg  cat0305.jpg  cat0472.jpg  cat0639.jpg  cat0806.jpg  cat0973.jpg\r\n",
      "cat0139.jpg  cat0306.jpg  cat0473.jpg  cat0640.jpg  cat0807.jpg  cat0974.jpg\r\n",
      "cat0140.jpg  cat0307.jpg  cat0474.jpg  cat0641.jpg  cat0808.jpg  cat0975.jpg\r\n",
      "cat0141.jpg  cat0308.jpg  cat0475.jpg  cat0642.jpg  cat0809.jpg  cat0976.jpg\r\n",
      "cat0142.jpg  cat0309.jpg  cat0476.jpg  cat0643.jpg  cat0810.jpg  cat0977.jpg\r\n",
      "cat0143.jpg  cat0310.jpg  cat0477.jpg  cat0644.jpg  cat0811.jpg  cat0978.jpg\r\n",
      "cat0144.jpg  cat0311.jpg  cat0478.jpg  cat0645.jpg  cat0812.jpg  cat0979.jpg\r\n",
      "cat0145.jpg  cat0312.jpg  cat0479.jpg  cat0646.jpg  cat0813.jpg  cat0980.jpg\r\n",
      "cat0146.jpg  cat0313.jpg  cat0480.jpg  cat0647.jpg  cat0814.jpg  cat0981.jpg\r\n",
      "cat0147.jpg  cat0314.jpg  cat0481.jpg  cat0648.jpg  cat0815.jpg  cat0982.jpg\r\n",
      "cat0148.jpg  cat0315.jpg  cat0482.jpg  cat0649.jpg  cat0816.jpg  cat0983.jpg\r\n",
      "cat0149.jpg  cat0316.jpg  cat0483.jpg  cat0650.jpg  cat0817.jpg  cat0984.jpg\r\n",
      "cat0150.jpg  cat0317.jpg  cat0484.jpg  cat0651.jpg  cat0818.jpg  cat0985.jpg\r\n",
      "cat0151.jpg  cat0318.jpg  cat0485.jpg  cat0652.jpg  cat0819.jpg  cat0986.jpg\r\n",
      "cat0152.jpg  cat0319.jpg  cat0486.jpg  cat0653.jpg  cat0820.jpg  cat0987.jpg\r\n",
      "cat0153.jpg  cat0320.jpg  cat0487.jpg  cat0654.jpg  cat0821.jpg  cat0988.jpg\r\n",
      "cat0154.jpg  cat0321.jpg  cat0488.jpg  cat0655.jpg  cat0822.jpg  cat0989.jpg\r\n",
      "cat0155.jpg  cat0322.jpg  cat0489.jpg  cat0656.jpg  cat0823.jpg  cat0990.jpg\r\n",
      "cat0156.jpg  cat0323.jpg  cat0490.jpg  cat0657.jpg  cat0824.jpg  cat0991.jpg\r\n",
      "cat0157.jpg  cat0324.jpg  cat0491.jpg  cat0658.jpg  cat0825.jpg  cat0992.jpg\r\n",
      "cat0158.jpg  cat0325.jpg  cat0492.jpg  cat0659.jpg  cat0826.jpg  cat0993.jpg\r\n",
      "cat0159.jpg  cat0326.jpg  cat0493.jpg  cat0660.jpg  cat0827.jpg  cat0994.jpg\r\n",
      "cat0160.jpg  cat0327.jpg  cat0494.jpg  cat0661.jpg  cat0828.jpg  cat0995.jpg\r\n",
      "cat0161.jpg  cat0328.jpg  cat0495.jpg  cat0662.jpg  cat0829.jpg  cat0996.jpg\r\n",
      "cat0162.jpg  cat0329.jpg  cat0496.jpg  cat0663.jpg  cat0830.jpg  cat0997.jpg\r\n",
      "cat0163.jpg  cat0330.jpg  cat0497.jpg  cat0664.jpg  cat0831.jpg  cat0998.jpg\r\n",
      "cat0164.jpg  cat0331.jpg  cat0498.jpg  cat0665.jpg  cat0832.jpg  cat0999.jpg\r\n",
      "cat0165.jpg  cat0332.jpg  cat0499.jpg  cat0666.jpg  cat0833.jpg  cat1000.jpg\r\n",
      "cat0166.jpg  cat0333.jpg  cat0500.jpg  cat0667.jpg  cat0834.jpg\r\n",
      "cat0167.jpg  cat0334.jpg  cat0501.jpg  cat0668.jpg  cat0835.jpg\r\n"
     ]
    }
   ],
   "source": [
    "ls \"/Users/mitsuhiro/Work/data/train/cats\""
   ]
  },
  {
   "cell_type": "code",
   "execution_count": 95,
   "metadata": {
    "collapsed": true
   },
   "outputs": [],
   "source": [
    "for i in range(400):#valid用画像ファイルを移動\n",
    "    os.rename(\"%s/dog.%d.jpg\" % (source_dir, 1000 + i + 1),\n",
    "              \"%s/dogs/dog%04d.jpg\" % (valid_dir, i + 1))\n",
    "    os.rename(\"%s/cat.%d.jpg\" % (source_dir, 1000 + i + 1),\n",
    "              \"%s/cats/cat%04d.jpg\" % (valid_dir, i + 1))"
   ]
  },
  {
   "cell_type": "markdown",
   "metadata": {
    "collapsed": true
   },
   "source": [
    "\n",
    "こんな感じになりました\n",
    "\n",
    "    data/\n",
    "        train/\n",
    "              dogs/\n",
    "                  dog.0001.jpg  ...  dog.1000.jpg\n",
    "              cats/\n",
    "                  cat.0001.jpg  ...  cat.1000.jp\n",
    "                \n",
    "        valid/\n",
    "              dogs/\n",
    "                  dog.0001.jpg  ...  dog.0400.jpg\n",
    "              cats/\n",
    "                　cat.0001.jpg  ...  cat.0400.jpg\n",
    "                \n",
    "---"
   ]
  },
  {
   "cell_type": "markdown",
   "metadata": {
    "collapsed": true
   },
   "source": [
    "# 3. 画像データへ加工"
   ]
  },
  {
   "cell_type": "code",
   "execution_count": 7,
   "metadata": {},
   "outputs": [],
   "source": [
    "from keras.preprocessing.image import ImageDataGenerator, array_to_img, img_to_array, load_img"
   ]
  },
  {
   "cell_type": "code",
   "execution_count": 8,
   "metadata": {
    "collapsed": true
   },
   "outputs": [],
   "source": [
    "generator = ImageDataGenerator(rescale=1.0 / 255) "
   ]
  },
  {
   "cell_type": "markdown",
   "metadata": {},
   "source": [
    "ImageDataGeneratorによりリアルタイムに，画像データを生成する  \n",
    "引数にはいろいろあるがrescaleなしで4-1.のCNNをやった場合、val_actが0.5付近から全然増えない...\n",
    "\n",
    "ImageDataGenerator参考\n",
    "https://keras.io/ja/preprocessing/image/\n"
   ]
  },
  {
   "cell_type": "code",
   "execution_count": 9,
   "metadata": {},
   "outputs": [
    {
     "name": "stdout",
     "output_type": "stream",
     "text": [
      "Found 2000 images belonging to 2 classes.\n",
      "Found 800 images belonging to 2 classes.\n"
     ]
    }
   ],
   "source": [
    "train_generator = generator.flow_from_directory('/Users/mitsuhiro/Work/data/train/',\n",
    "        target_size=(150, 150),\n",
    "        batch_size=32,\n",
    "        class_mode='binary')\n",
    "valid_generator = generator.flow_from_directory('/Users/mitsuhiro/Work/data/valid/',\n",
    "        target_size=(150, 150),\n",
    "        batch_size=32,\n",
    "        class_mode='binary')\n"
   ]
  },
  {
   "cell_type": "markdown",
   "metadata": {
    "collapsed": true
   },
   "source": [
    "このgeneratorに渡せばデータ化してくれる\n",
    "\n",
    "---\n",
    "\n",
    "\n",
    "\n",
    "\n",
    "# 4.1 モデル構築＆評価　CNN"
   ]
  },
  {
   "cell_type": "code",
   "execution_count": 3,
   "metadata": {},
   "outputs": [
    {
     "name": "stderr",
     "output_type": "stream",
     "text": [
      "Using TensorFlow backend.\n"
     ]
    }
   ],
   "source": [
    "from keras.models import Sequential\n",
    "from keras.layers import Conv2D, MaxPooling2D\n",
    "from keras.layers import Activation, Dropout, Flatten, Dense"
   ]
  },
  {
   "cell_type": "code",
   "execution_count": 4,
   "metadata": {
    "collapsed": true
   },
   "outputs": [],
   "source": [
    "model = Sequential()\n",
    "model.add(Conv2D(32, (3, 3), input_shape=(150, 150, 3)))\n",
    "model.add(Activation('relu'))\n",
    "model.add(MaxPooling2D(pool_size=(2, 2)))\n",
    "\n",
    "model.add(Conv2D(32, (3, 3)))\n",
    "model.add(Activation('relu'))\n",
    "model.add(MaxPooling2D(pool_size=(2, 2)))\n",
    "\n",
    "model.add(Conv2D(64, (3, 3)))\n",
    "model.add(Activation('relu'))\n",
    "model.add(MaxPooling2D(pool_size=(2, 2)))\n",
    "\n",
    "model.add(Flatten())\n",
    "model.add(Dense(64))\n",
    "model.add(Activation('relu'))\n",
    "model.add(Dropout(0.5))\n",
    "model.add(Dense(1))\n",
    "model.add(Activation('sigmoid'))\n",
    "\n",
    "model.compile(loss='binary_crossentropy',optimizer='adam',metrics=['accuracy'])"
   ]
  },
  {
   "cell_type": "code",
   "execution_count": 5,
   "metadata": {
    "collapsed": true
   },
   "outputs": [],
   "source": [
    "RUN_ID = 'CNN'\n",
    "save_model_viz(RUN_ID, model)"
   ]
  },
  {
   "cell_type": "code",
   "execution_count": 10,
   "metadata": {},
   "outputs": [
    {
     "name": "stdout",
     "output_type": "stream",
     "text": [
      "Epoch 1/10\n",
      "125/125 [==============================] - 121s - loss: 0.6897 - acc: 0.5373 - val_loss: 0.6630 - val_acc: 0.5875\n",
      "Epoch 2/10\n",
      "125/125 [==============================] - 119s - loss: 0.6581 - acc: 0.5950 - val_loss: 0.6423 - val_acc: 0.6219\n",
      "Epoch 3/10\n",
      "125/125 [==============================] - 124s - loss: 0.6082 - acc: 0.6673 - val_loss: 0.5799 - val_acc: 0.6875\n",
      "Epoch 4/10\n",
      "125/125 [==============================] - 120s - loss: 0.4934 - acc: 0.7607 - val_loss: 0.6775 - val_acc: 0.6631\n",
      "Epoch 5/10\n",
      "125/125 [==============================] - 122s - loss: 0.3875 - acc: 0.8245 - val_loss: 0.6090 - val_acc: 0.7438\n",
      "Epoch 6/10\n",
      "125/125 [==============================] - 120s - loss: 0.2818 - acc: 0.8803 - val_loss: 0.6773 - val_acc: 0.7331\n",
      "Epoch 7/10\n",
      "125/125 [==============================] - 122s - loss: 0.1715 - acc: 0.9325 - val_loss: 0.8420 - val_acc: 0.7394\n",
      "Epoch 8/10\n",
      "125/125 [==============================] - 121s - loss: 0.1306 - acc: 0.9495 - val_loss: 0.9951 - val_acc: 0.7462\n",
      "Epoch 9/10\n",
      "125/125 [==============================] - 121s - loss: 0.0725 - acc: 0.9725 - val_loss: 1.1252 - val_acc: 0.7431\n",
      "Epoch 10/10\n",
      "125/125 [==============================] - 122s - loss: 0.0635 - acc: 0.9783 - val_loss: 1.1992 - val_acc: 0.7200\n"
     ]
    }
   ],
   "source": [
    "batch_size = 16\n",
    "hist = model.fit_generator(train_generator, \n",
    "                    steps_per_epoch = 2000 // batch_size, \n",
    "                    epochs=10, \n",
    "                    verbose=1, \n",
    "                    validation_data = valid_generator,\n",
    "                    validation_steps= 800 // batch_size)\n",
    "\n",
    "save_weights(RUN_ID, model)\n",
    "save_hist(RUN_ID, hist)"
   ]
  },
  {
   "cell_type": "code",
   "execution_count": 13,
   "metadata": {},
   "outputs": [
    {
     "data": {
      "image/png": "[encoded data removed]",
      "text/plain": [
       "<matplotlib.figure.Figure at 0x11af39510>"
      ]
     },
     "metadata": {},
     "output_type": "display_data"
    },
    {
     "data": {
      "image/png": "[encoded data removed]",
      "text/plain": [
       "<matplotlib.figure.Figure at 0x10c7bced0>"
      ]
     },
     "metadata": {},
     "output_type": "display_data"
    }
   ],
   "source": [
    "plot_hist(RUN_ID)"
   ]
  },
  {
   "cell_type": "code",
   "execution_count": 15,
   "metadata": {},
   "outputs": [
    {
     "data": {
      "image/png": "[encoded data removed]",
      "text/plain": [
       "<IPython.core.display.Image object>"
      ]
     },
     "execution_count": 15,
     "metadata": {},
     "output_type": "execute_result"
    }
   ],
   "source": [
    "from IPython.display import Image\n",
    "Image(\"model/mlp_vis.png\")"
   ]
  },
  {
   "cell_type": "markdown",
   "metadata": {
    "collapsed": true
   },
   "source": [
    "---\n",
    "\n",
    "# 4.2 モデル構築＆評価　VGG16を特長抽出機として使用\n",
    "\n",
    "---\n",
    "\n",
    "まずはVGG16を使って特徴量を抽出して保存"
   ]
  },
  {
   "cell_type": "code",
   "execution_count": 16,
   "metadata": {
    "collapsed": true
   },
   "outputs": [],
   "source": [
    "from keras.applications.vgg16 import VGG16"
   ]
  },
  {
   "cell_type": "code",
   "execution_count": 17,
   "metadata": {
    "collapsed": true
   },
   "outputs": [],
   "source": [
    "model = VGG16(include_top=False, weights='imagenet') # include_top=Fals :VGG16のFC部分を削除"
   ]
  },
  {
   "cell_type": "code",
   "execution_count": 21,
   "metadata": {},
   "outputs": [
    {
     "ename": "KeyboardInterrupt",
     "evalue": "",
     "output_type": "error",
     "traceback": [
      "\u001b[0;31m---------------------------------------------------------------------------\u001b[0m",
      "\u001b[0;31mKeyboardInterrupt\u001b[0m                         Traceback (most recent call last)",
      "\u001b[0;32m<ipython-input-21-97ba7f11cf92>\u001b[0m in \u001b[0;36m<module>\u001b[0;34m()\u001b[0m\n\u001b[0;32m----> 1\u001b[0;31m \u001b[0mbottleneck_features_train\u001b[0m \u001b[0;34m=\u001b[0m \u001b[0mmodel\u001b[0m\u001b[0;34m.\u001b[0m\u001b[0mpredict_generator\u001b[0m\u001b[0;34m(\u001b[0m\u001b[0mtrain_generator\u001b[0m\u001b[0;34m,\u001b[0m \u001b[0;36m2000\u001b[0m\u001b[0;34m)\u001b[0m\u001b[0;34m\u001b[0m\u001b[0m\n\u001b[0m",
      "\u001b[0;32m/usr/local/lib/python2.7/site-packages/keras/legacy/interfaces.pyc\u001b[0m in \u001b[0;36mwrapper\u001b[0;34m(*args, **kwargs)\u001b[0m\n\u001b[1;32m     86\u001b[0m                 warnings.warn('Update your `' + object_name +\n\u001b[1;32m     87\u001b[0m                               '` call to the Keras 2 API: ' + signature, stacklevel=2)\n\u001b[0;32m---> 88\u001b[0;31m             \u001b[0;32mreturn\u001b[0m \u001b[0mfunc\u001b[0m\u001b[0;34m(\u001b[0m\u001b[0;34m*\u001b[0m\u001b[0margs\u001b[0m\u001b[0;34m,\u001b[0m \u001b[0;34m**\u001b[0m\u001b[0mkwargs\u001b[0m\u001b[0;34m)\u001b[0m\u001b[0;34m\u001b[0m\u001b[0m\n\u001b[0m\u001b[1;32m     89\u001b[0m         \u001b[0mwrapper\u001b[0m\u001b[0;34m.\u001b[0m\u001b[0m_legacy_support_signature\u001b[0m \u001b[0;34m=\u001b[0m \u001b[0minspect\u001b[0m\u001b[0;34m.\u001b[0m\u001b[0mgetargspec\u001b[0m\u001b[0;34m(\u001b[0m\u001b[0mfunc\u001b[0m\u001b[0;34m)\u001b[0m\u001b[0;34m\u001b[0m\u001b[0m\n\u001b[1;32m     90\u001b[0m         \u001b[0;32mreturn\u001b[0m \u001b[0mwrapper\u001b[0m\u001b[0;34m\u001b[0m\u001b[0m\n",
      "\u001b[0;32m/usr/local/lib/python2.7/site-packages/keras/engine/training.pyc\u001b[0m in \u001b[0;36mpredict_generator\u001b[0;34m(self, generator, steps, max_q_size, workers, pickle_safe, verbose)\u001b[0m\n\u001b[1;32m   2118\u001b[0m                     \u001b[0mx\u001b[0m \u001b[0;34m=\u001b[0m \u001b[0mgenerator_output\u001b[0m\u001b[0;34m\u001b[0m\u001b[0m\n\u001b[1;32m   2119\u001b[0m \u001b[0;34m\u001b[0m\u001b[0m\n\u001b[0;32m-> 2120\u001b[0;31m                 \u001b[0mouts\u001b[0m \u001b[0;34m=\u001b[0m \u001b[0mself\u001b[0m\u001b[0;34m.\u001b[0m\u001b[0mpredict_on_batch\u001b[0m\u001b[0;34m(\u001b[0m\u001b[0mx\u001b[0m\u001b[0;34m)\u001b[0m\u001b[0;34m\u001b[0m\u001b[0m\n\u001b[0m\u001b[1;32m   2121\u001b[0m                 \u001b[0;32mif\u001b[0m \u001b[0;32mnot\u001b[0m \u001b[0misinstance\u001b[0m\u001b[0;34m(\u001b[0m\u001b[0mouts\u001b[0m\u001b[0;34m,\u001b[0m \u001b[0mlist\u001b[0m\u001b[0;34m)\u001b[0m\u001b[0;34m:\u001b[0m\u001b[0;34m\u001b[0m\u001b[0m\n\u001b[1;32m   2122\u001b[0m                     \u001b[0mouts\u001b[0m \u001b[0;34m=\u001b[0m \u001b[0;34m[\u001b[0m\u001b[0mouts\u001b[0m\u001b[0;34m]\u001b[0m\u001b[0;34m\u001b[0m\u001b[0m\n",
      "\u001b[0;32m/usr/local/lib/python2.7/site-packages/keras/engine/training.pyc\u001b[0m in \u001b[0;36mpredict_on_batch\u001b[0;34m(self, x)\u001b[0m\n\u001b[1;32m   1703\u001b[0m             \u001b[0mins\u001b[0m \u001b[0;34m=\u001b[0m \u001b[0mx\u001b[0m\u001b[0;34m\u001b[0m\u001b[0m\n\u001b[1;32m   1704\u001b[0m         \u001b[0mself\u001b[0m\u001b[0;34m.\u001b[0m\u001b[0m_make_predict_function\u001b[0m\u001b[0;34m(\u001b[0m\u001b[0;34m)\u001b[0m\u001b[0;34m\u001b[0m\u001b[0m\n\u001b[0;32m-> 1705\u001b[0;31m         \u001b[0moutputs\u001b[0m \u001b[0;34m=\u001b[0m \u001b[0mself\u001b[0m\u001b[0;34m.\u001b[0m\u001b[0mpredict_function\u001b[0m\u001b[0;34m(\u001b[0m\u001b[0mins\u001b[0m\u001b[0;34m)\u001b[0m\u001b[0;34m\u001b[0m\u001b[0m\n\u001b[0m\u001b[1;32m   1706\u001b[0m         \u001b[0;32mif\u001b[0m \u001b[0mlen\u001b[0m\u001b[0;34m(\u001b[0m\u001b[0moutputs\u001b[0m\u001b[0;34m)\u001b[0m \u001b[0;34m==\u001b[0m \u001b[0;36m1\u001b[0m\u001b[0;34m:\u001b[0m\u001b[0;34m\u001b[0m\u001b[0m\n\u001b[1;32m   1707\u001b[0m             \u001b[0;32mreturn\u001b[0m \u001b[0moutputs\u001b[0m\u001b[0;34m[\u001b[0m\u001b[0;36m0\u001b[0m\u001b[0;34m]\u001b[0m\u001b[0;34m\u001b[0m\u001b[0m\n",
      "\u001b[0;32m/usr/local/lib/python2.7/site-packages/keras/backend/tensorflow_backend.pyc\u001b[0m in \u001b[0;36m__call__\u001b[0;34m(self, inputs)\u001b[0m\n\u001b[1;32m   2267\u001b[0m         updated = session.run(self.outputs + [self.updates_op],\n\u001b[1;32m   2268\u001b[0m                               \u001b[0mfeed_dict\u001b[0m\u001b[0;34m=\u001b[0m\u001b[0mfeed_dict\u001b[0m\u001b[0;34m,\u001b[0m\u001b[0;34m\u001b[0m\u001b[0m\n\u001b[0;32m-> 2269\u001b[0;31m                               **self.session_kwargs)\n\u001b[0m\u001b[1;32m   2270\u001b[0m         \u001b[0;32mreturn\u001b[0m \u001b[0mupdated\u001b[0m\u001b[0;34m[\u001b[0m\u001b[0;34m:\u001b[0m\u001b[0mlen\u001b[0m\u001b[0;34m(\u001b[0m\u001b[0mself\u001b[0m\u001b[0;34m.\u001b[0m\u001b[0moutputs\u001b[0m\u001b[0;34m)\u001b[0m\u001b[0;34m]\u001b[0m\u001b[0;34m\u001b[0m\u001b[0m\n\u001b[1;32m   2271\u001b[0m \u001b[0;34m\u001b[0m\u001b[0m\n",
      "\u001b[0;32m/usr/local/lib/python2.7/site-packages/tensorflow/python/client/session.pyc\u001b[0m in \u001b[0;36mrun\u001b[0;34m(self, fetches, feed_dict, options, run_metadata)\u001b[0m\n\u001b[1;32m    787\u001b[0m     \u001b[0;32mtry\u001b[0m\u001b[0;34m:\u001b[0m\u001b[0;34m\u001b[0m\u001b[0m\n\u001b[1;32m    788\u001b[0m       result = self._run(None, fetches, feed_dict, options_ptr,\n\u001b[0;32m--> 789\u001b[0;31m                          run_metadata_ptr)\n\u001b[0m\u001b[1;32m    790\u001b[0m       \u001b[0;32mif\u001b[0m \u001b[0mrun_metadata\u001b[0m\u001b[0;34m:\u001b[0m\u001b[0;34m\u001b[0m\u001b[0m\n\u001b[1;32m    791\u001b[0m         \u001b[0mproto_data\u001b[0m \u001b[0;34m=\u001b[0m \u001b[0mtf_session\u001b[0m\u001b[0;34m.\u001b[0m\u001b[0mTF_GetBuffer\u001b[0m\u001b[0;34m(\u001b[0m\u001b[0mrun_metadata_ptr\u001b[0m\u001b[0;34m)\u001b[0m\u001b[0;34m\u001b[0m\u001b[0m\n",
      "\u001b[0;32m/usr/local/lib/python2.7/site-packages/tensorflow/python/client/session.pyc\u001b[0m in \u001b[0;36m_run\u001b[0;34m(self, handle, fetches, feed_dict, options, run_metadata)\u001b[0m\n\u001b[1;32m    995\u001b[0m     \u001b[0;32mif\u001b[0m \u001b[0mfinal_fetches\u001b[0m \u001b[0;32mor\u001b[0m \u001b[0mfinal_targets\u001b[0m\u001b[0;34m:\u001b[0m\u001b[0;34m\u001b[0m\u001b[0m\n\u001b[1;32m    996\u001b[0m       results = self._do_run(handle, final_targets, final_fetches,\n\u001b[0;32m--> 997\u001b[0;31m                              feed_dict_string, options, run_metadata)\n\u001b[0m\u001b[1;32m    998\u001b[0m     \u001b[0;32melse\u001b[0m\u001b[0;34m:\u001b[0m\u001b[0;34m\u001b[0m\u001b[0m\n\u001b[1;32m    999\u001b[0m       \u001b[0mresults\u001b[0m \u001b[0;34m=\u001b[0m \u001b[0;34m[\u001b[0m\u001b[0;34m]\u001b[0m\u001b[0;34m\u001b[0m\u001b[0m\n",
      "\u001b[0;32m/usr/local/lib/python2.7/site-packages/tensorflow/python/client/session.pyc\u001b[0m in \u001b[0;36m_do_run\u001b[0;34m(self, handle, target_list, fetch_list, feed_dict, options, run_metadata)\u001b[0m\n\u001b[1;32m   1130\u001b[0m     \u001b[0;32mif\u001b[0m \u001b[0mhandle\u001b[0m \u001b[0;32mis\u001b[0m \u001b[0mNone\u001b[0m\u001b[0;34m:\u001b[0m\u001b[0;34m\u001b[0m\u001b[0m\n\u001b[1;32m   1131\u001b[0m       return self._do_call(_run_fn, self._session, feed_dict, fetch_list,\n\u001b[0;32m-> 1132\u001b[0;31m                            target_list, options, run_metadata)\n\u001b[0m\u001b[1;32m   1133\u001b[0m     \u001b[0;32melse\u001b[0m\u001b[0;34m:\u001b[0m\u001b[0;34m\u001b[0m\u001b[0m\n\u001b[1;32m   1134\u001b[0m       return self._do_call(_prun_fn, self._session, handle, feed_dict,\n",
      "\u001b[0;32m/usr/local/lib/python2.7/site-packages/tensorflow/python/client/session.pyc\u001b[0m in \u001b[0;36m_do_call\u001b[0;34m(self, fn, *args)\u001b[0m\n\u001b[1;32m   1137\u001b[0m   \u001b[0;32mdef\u001b[0m \u001b[0m_do_call\u001b[0m\u001b[0;34m(\u001b[0m\u001b[0mself\u001b[0m\u001b[0;34m,\u001b[0m \u001b[0mfn\u001b[0m\u001b[0;34m,\u001b[0m \u001b[0;34m*\u001b[0m\u001b[0margs\u001b[0m\u001b[0;34m)\u001b[0m\u001b[0;34m:\u001b[0m\u001b[0;34m\u001b[0m\u001b[0m\n\u001b[1;32m   1138\u001b[0m     \u001b[0;32mtry\u001b[0m\u001b[0;34m:\u001b[0m\u001b[0;34m\u001b[0m\u001b[0m\n\u001b[0;32m-> 1139\u001b[0;31m       \u001b[0;32mreturn\u001b[0m \u001b[0mfn\u001b[0m\u001b[0;34m(\u001b[0m\u001b[0;34m*\u001b[0m\u001b[0margs\u001b[0m\u001b[0;34m)\u001b[0m\u001b[0;34m\u001b[0m\u001b[0m\n\u001b[0m\u001b[1;32m   1140\u001b[0m     \u001b[0;32mexcept\u001b[0m \u001b[0merrors\u001b[0m\u001b[0;34m.\u001b[0m\u001b[0mOpError\u001b[0m \u001b[0;32mas\u001b[0m \u001b[0me\u001b[0m\u001b[0;34m:\u001b[0m\u001b[0;34m\u001b[0m\u001b[0m\n\u001b[1;32m   1141\u001b[0m       \u001b[0mmessage\u001b[0m \u001b[0;34m=\u001b[0m \u001b[0mcompat\u001b[0m\u001b[0;34m.\u001b[0m\u001b[0mas_text\u001b[0m\u001b[0;34m(\u001b[0m\u001b[0me\u001b[0m\u001b[0;34m.\u001b[0m\u001b[0mmessage\u001b[0m\u001b[0;34m)\u001b[0m\u001b[0;34m\u001b[0m\u001b[0m\n",
      "\u001b[0;32m/usr/local/lib/python2.7/site-packages/tensorflow/python/client/session.pyc\u001b[0m in \u001b[0;36m_run_fn\u001b[0;34m(session, feed_dict, fetch_list, target_list, options, run_metadata)\u001b[0m\n\u001b[1;32m   1119\u001b[0m         return tf_session.TF_Run(session, options,\n\u001b[1;32m   1120\u001b[0m                                  \u001b[0mfeed_dict\u001b[0m\u001b[0;34m,\u001b[0m \u001b[0mfetch_list\u001b[0m\u001b[0;34m,\u001b[0m \u001b[0mtarget_list\u001b[0m\u001b[0;34m,\u001b[0m\u001b[0;34m\u001b[0m\u001b[0m\n\u001b[0;32m-> 1121\u001b[0;31m                                  status, run_metadata)\n\u001b[0m\u001b[1;32m   1122\u001b[0m \u001b[0;34m\u001b[0m\u001b[0m\n\u001b[1;32m   1123\u001b[0m     \u001b[0;32mdef\u001b[0m \u001b[0m_prun_fn\u001b[0m\u001b[0;34m(\u001b[0m\u001b[0msession\u001b[0m\u001b[0;34m,\u001b[0m \u001b[0mhandle\u001b[0m\u001b[0;34m,\u001b[0m \u001b[0mfeed_dict\u001b[0m\u001b[0;34m,\u001b[0m \u001b[0mfetch_list\u001b[0m\u001b[0;34m)\u001b[0m\u001b[0;34m:\u001b[0m\u001b[0;34m\u001b[0m\u001b[0m\n",
      "\u001b[0;31mKeyboardInterrupt\u001b[0m: "
     ]
    }
   ],
   "source": [
    "bottleneck_features_train = model.predict_generator(train_generator, 2000)"
   ]
  },
  {
   "cell_type": "code",
   "execution_count": null,
   "metadata": {
    "collapsed": true
   },
   "outputs": [],
   "source": [
    "np.save(open('bottleneck_features_train.npy', 'w'), bottleneck_features_train)"
   ]
  },
  {
   "cell_type": "code",
   "execution_count": 23,
   "metadata": {},
   "outputs": [
    {
     "name": "stdout",
     "output_type": "stream",
     "text": [
      "218/800 [=======>......................] - ETA: 5438s"
     ]
    },
    {
     "ename": "KeyboardInterrupt",
     "evalue": "",
     "output_type": "error",
     "traceback": [
      "\u001b[0;31m---------------------------------------------------------------------------\u001b[0m",
      "\u001b[0;31mKeyboardInterrupt\u001b[0m                         Traceback (most recent call last)",
      "\u001b[0;32m<ipython-input-23-7afc25d3cdd2>\u001b[0m in \u001b[0;36m<module>\u001b[0;34m()\u001b[0m\n\u001b[0;32m----> 1\u001b[0;31m \u001b[0mbottleneck_features_train\u001b[0m \u001b[0;34m=\u001b[0m \u001b[0mmodel\u001b[0m\u001b[0;34m.\u001b[0m\u001b[0mpredict_generator\u001b[0m\u001b[0;34m(\u001b[0m\u001b[0mvalid_generator\u001b[0m\u001b[0;34m,\u001b[0m \u001b[0;36m800\u001b[0m\u001b[0;34m,\u001b[0m \u001b[0mverbose\u001b[0m \u001b[0;34m=\u001b[0m \u001b[0;36m1\u001b[0m\u001b[0;34m)\u001b[0m\u001b[0;34m\u001b[0m\u001b[0m\n\u001b[0m",
      "\u001b[0;32m/usr/local/lib/python2.7/site-packages/keras/legacy/interfaces.pyc\u001b[0m in \u001b[0;36mwrapper\u001b[0;34m(*args, **kwargs)\u001b[0m\n\u001b[1;32m     86\u001b[0m                 warnings.warn('Update your `' + object_name +\n\u001b[1;32m     87\u001b[0m                               '` call to the Keras 2 API: ' + signature, stacklevel=2)\n\u001b[0;32m---> 88\u001b[0;31m             \u001b[0;32mreturn\u001b[0m \u001b[0mfunc\u001b[0m\u001b[0;34m(\u001b[0m\u001b[0;34m*\u001b[0m\u001b[0margs\u001b[0m\u001b[0;34m,\u001b[0m \u001b[0;34m**\u001b[0m\u001b[0mkwargs\u001b[0m\u001b[0;34m)\u001b[0m\u001b[0;34m\u001b[0m\u001b[0m\n\u001b[0m\u001b[1;32m     89\u001b[0m         \u001b[0mwrapper\u001b[0m\u001b[0;34m.\u001b[0m\u001b[0m_legacy_support_signature\u001b[0m \u001b[0;34m=\u001b[0m \u001b[0minspect\u001b[0m\u001b[0;34m.\u001b[0m\u001b[0mgetargspec\u001b[0m\u001b[0;34m(\u001b[0m\u001b[0mfunc\u001b[0m\u001b[0;34m)\u001b[0m\u001b[0;34m\u001b[0m\u001b[0m\n\u001b[1;32m     90\u001b[0m         \u001b[0;32mreturn\u001b[0m \u001b[0mwrapper\u001b[0m\u001b[0;34m\u001b[0m\u001b[0m\n",
      "\u001b[0;32m/usr/local/lib/python2.7/site-packages/keras/engine/training.pyc\u001b[0m in \u001b[0;36mpredict_generator\u001b[0;34m(self, generator, steps, max_q_size, workers, pickle_safe, verbose)\u001b[0m\n\u001b[1;32m   2118\u001b[0m                     \u001b[0mx\u001b[0m \u001b[0;34m=\u001b[0m \u001b[0mgenerator_output\u001b[0m\u001b[0;34m\u001b[0m\u001b[0m\n\u001b[1;32m   2119\u001b[0m \u001b[0;34m\u001b[0m\u001b[0m\n\u001b[0;32m-> 2120\u001b[0;31m                 \u001b[0mouts\u001b[0m \u001b[0;34m=\u001b[0m \u001b[0mself\u001b[0m\u001b[0;34m.\u001b[0m\u001b[0mpredict_on_batch\u001b[0m\u001b[0;34m(\u001b[0m\u001b[0mx\u001b[0m\u001b[0;34m)\u001b[0m\u001b[0;34m\u001b[0m\u001b[0m\n\u001b[0m\u001b[1;32m   2121\u001b[0m                 \u001b[0;32mif\u001b[0m \u001b[0;32mnot\u001b[0m \u001b[0misinstance\u001b[0m\u001b[0;34m(\u001b[0m\u001b[0mouts\u001b[0m\u001b[0;34m,\u001b[0m \u001b[0mlist\u001b[0m\u001b[0;34m)\u001b[0m\u001b[0;34m:\u001b[0m\u001b[0;34m\u001b[0m\u001b[0m\n\u001b[1;32m   2122\u001b[0m                     \u001b[0mouts\u001b[0m \u001b[0;34m=\u001b[0m \u001b[0;34m[\u001b[0m\u001b[0mouts\u001b[0m\u001b[0;34m]\u001b[0m\u001b[0;34m\u001b[0m\u001b[0m\n",
      "\u001b[0;32m/usr/local/lib/python2.7/site-packages/keras/engine/training.pyc\u001b[0m in \u001b[0;36mpredict_on_batch\u001b[0;34m(self, x)\u001b[0m\n\u001b[1;32m   1703\u001b[0m             \u001b[0mins\u001b[0m \u001b[0;34m=\u001b[0m \u001b[0mx\u001b[0m\u001b[0;34m\u001b[0m\u001b[0m\n\u001b[1;32m   1704\u001b[0m         \u001b[0mself\u001b[0m\u001b[0;34m.\u001b[0m\u001b[0m_make_predict_function\u001b[0m\u001b[0;34m(\u001b[0m\u001b[0;34m)\u001b[0m\u001b[0;34m\u001b[0m\u001b[0m\n\u001b[0;32m-> 1705\u001b[0;31m         \u001b[0moutputs\u001b[0m \u001b[0;34m=\u001b[0m \u001b[0mself\u001b[0m\u001b[0;34m.\u001b[0m\u001b[0mpredict_function\u001b[0m\u001b[0;34m(\u001b[0m\u001b[0mins\u001b[0m\u001b[0;34m)\u001b[0m\u001b[0;34m\u001b[0m\u001b[0m\n\u001b[0m\u001b[1;32m   1706\u001b[0m         \u001b[0;32mif\u001b[0m \u001b[0mlen\u001b[0m\u001b[0;34m(\u001b[0m\u001b[0moutputs\u001b[0m\u001b[0;34m)\u001b[0m \u001b[0;34m==\u001b[0m \u001b[0;36m1\u001b[0m\u001b[0;34m:\u001b[0m\u001b[0;34m\u001b[0m\u001b[0m\n\u001b[1;32m   1707\u001b[0m             \u001b[0;32mreturn\u001b[0m \u001b[0moutputs\u001b[0m\u001b[0;34m[\u001b[0m\u001b[0;36m0\u001b[0m\u001b[0;34m]\u001b[0m\u001b[0;34m\u001b[0m\u001b[0m\n",
      "\u001b[0;32m/usr/local/lib/python2.7/site-packages/keras/backend/tensorflow_backend.pyc\u001b[0m in \u001b[0;36m__call__\u001b[0;34m(self, inputs)\u001b[0m\n\u001b[1;32m   2267\u001b[0m         updated = session.run(self.outputs + [self.updates_op],\n\u001b[1;32m   2268\u001b[0m                               \u001b[0mfeed_dict\u001b[0m\u001b[0;34m=\u001b[0m\u001b[0mfeed_dict\u001b[0m\u001b[0;34m,\u001b[0m\u001b[0;34m\u001b[0m\u001b[0m\n\u001b[0;32m-> 2269\u001b[0;31m                               **self.session_kwargs)\n\u001b[0m\u001b[1;32m   2270\u001b[0m         \u001b[0;32mreturn\u001b[0m \u001b[0mupdated\u001b[0m\u001b[0;34m[\u001b[0m\u001b[0;34m:\u001b[0m\u001b[0mlen\u001b[0m\u001b[0;34m(\u001b[0m\u001b[0mself\u001b[0m\u001b[0;34m.\u001b[0m\u001b[0moutputs\u001b[0m\u001b[0;34m)\u001b[0m\u001b[0;34m]\u001b[0m\u001b[0;34m\u001b[0m\u001b[0m\n\u001b[1;32m   2271\u001b[0m \u001b[0;34m\u001b[0m\u001b[0m\n",
      "\u001b[0;32m/usr/local/lib/python2.7/site-packages/tensorflow/python/client/session.pyc\u001b[0m in \u001b[0;36mrun\u001b[0;34m(self, fetches, feed_dict, options, run_metadata)\u001b[0m\n\u001b[1;32m    787\u001b[0m     \u001b[0;32mtry\u001b[0m\u001b[0;34m:\u001b[0m\u001b[0;34m\u001b[0m\u001b[0m\n\u001b[1;32m    788\u001b[0m       result = self._run(None, fetches, feed_dict, options_ptr,\n\u001b[0;32m--> 789\u001b[0;31m                          run_metadata_ptr)\n\u001b[0m\u001b[1;32m    790\u001b[0m       \u001b[0;32mif\u001b[0m \u001b[0mrun_metadata\u001b[0m\u001b[0;34m:\u001b[0m\u001b[0;34m\u001b[0m\u001b[0m\n\u001b[1;32m    791\u001b[0m         \u001b[0mproto_data\u001b[0m \u001b[0;34m=\u001b[0m \u001b[0mtf_session\u001b[0m\u001b[0;34m.\u001b[0m\u001b[0mTF_GetBuffer\u001b[0m\u001b[0;34m(\u001b[0m\u001b[0mrun_metadata_ptr\u001b[0m\u001b[0;34m)\u001b[0m\u001b[0;34m\u001b[0m\u001b[0m\n",
      "\u001b[0;32m/usr/local/lib/python2.7/site-packages/tensorflow/python/client/session.pyc\u001b[0m in \u001b[0;36m_run\u001b[0;34m(self, handle, fetches, feed_dict, options, run_metadata)\u001b[0m\n\u001b[1;32m    995\u001b[0m     \u001b[0;32mif\u001b[0m \u001b[0mfinal_fetches\u001b[0m \u001b[0;32mor\u001b[0m \u001b[0mfinal_targets\u001b[0m\u001b[0;34m:\u001b[0m\u001b[0;34m\u001b[0m\u001b[0m\n\u001b[1;32m    996\u001b[0m       results = self._do_run(handle, final_targets, final_fetches,\n\u001b[0;32m--> 997\u001b[0;31m                              feed_dict_string, options, run_metadata)\n\u001b[0m\u001b[1;32m    998\u001b[0m     \u001b[0;32melse\u001b[0m\u001b[0;34m:\u001b[0m\u001b[0;34m\u001b[0m\u001b[0m\n\u001b[1;32m    999\u001b[0m       \u001b[0mresults\u001b[0m \u001b[0;34m=\u001b[0m \u001b[0;34m[\u001b[0m\u001b[0;34m]\u001b[0m\u001b[0;34m\u001b[0m\u001b[0m\n",
      "\u001b[0;32m/usr/local/lib/python2.7/site-packages/tensorflow/python/client/session.pyc\u001b[0m in \u001b[0;36m_do_run\u001b[0;34m(self, handle, target_list, fetch_list, feed_dict, options, run_metadata)\u001b[0m\n\u001b[1;32m   1130\u001b[0m     \u001b[0;32mif\u001b[0m \u001b[0mhandle\u001b[0m \u001b[0;32mis\u001b[0m \u001b[0mNone\u001b[0m\u001b[0;34m:\u001b[0m\u001b[0;34m\u001b[0m\u001b[0m\n\u001b[1;32m   1131\u001b[0m       return self._do_call(_run_fn, self._session, feed_dict, fetch_list,\n\u001b[0;32m-> 1132\u001b[0;31m                            target_list, options, run_metadata)\n\u001b[0m\u001b[1;32m   1133\u001b[0m     \u001b[0;32melse\u001b[0m\u001b[0;34m:\u001b[0m\u001b[0;34m\u001b[0m\u001b[0m\n\u001b[1;32m   1134\u001b[0m       return self._do_call(_prun_fn, self._session, handle, feed_dict,\n",
      "\u001b[0;32m/usr/local/lib/python2.7/site-packages/tensorflow/python/client/session.pyc\u001b[0m in \u001b[0;36m_do_call\u001b[0;34m(self, fn, *args)\u001b[0m\n\u001b[1;32m   1137\u001b[0m   \u001b[0;32mdef\u001b[0m \u001b[0m_do_call\u001b[0m\u001b[0;34m(\u001b[0m\u001b[0mself\u001b[0m\u001b[0;34m,\u001b[0m \u001b[0mfn\u001b[0m\u001b[0;34m,\u001b[0m \u001b[0;34m*\u001b[0m\u001b[0margs\u001b[0m\u001b[0;34m)\u001b[0m\u001b[0;34m:\u001b[0m\u001b[0;34m\u001b[0m\u001b[0m\n\u001b[1;32m   1138\u001b[0m     \u001b[0;32mtry\u001b[0m\u001b[0;34m:\u001b[0m\u001b[0;34m\u001b[0m\u001b[0m\n\u001b[0;32m-> 1139\u001b[0;31m       \u001b[0;32mreturn\u001b[0m \u001b[0mfn\u001b[0m\u001b[0;34m(\u001b[0m\u001b[0;34m*\u001b[0m\u001b[0margs\u001b[0m\u001b[0;34m)\u001b[0m\u001b[0;34m\u001b[0m\u001b[0m\n\u001b[0m\u001b[1;32m   1140\u001b[0m     \u001b[0;32mexcept\u001b[0m \u001b[0merrors\u001b[0m\u001b[0;34m.\u001b[0m\u001b[0mOpError\u001b[0m \u001b[0;32mas\u001b[0m \u001b[0me\u001b[0m\u001b[0;34m:\u001b[0m\u001b[0;34m\u001b[0m\u001b[0m\n\u001b[1;32m   1141\u001b[0m       \u001b[0mmessage\u001b[0m \u001b[0;34m=\u001b[0m \u001b[0mcompat\u001b[0m\u001b[0;34m.\u001b[0m\u001b[0mas_text\u001b[0m\u001b[0;34m(\u001b[0m\u001b[0me\u001b[0m\u001b[0;34m.\u001b[0m\u001b[0mmessage\u001b[0m\u001b[0;34m)\u001b[0m\u001b[0;34m\u001b[0m\u001b[0m\n",
      "\u001b[0;32m/usr/local/lib/python2.7/site-packages/tensorflow/python/client/session.pyc\u001b[0m in \u001b[0;36m_run_fn\u001b[0;34m(session, feed_dict, fetch_list, target_list, options, run_metadata)\u001b[0m\n\u001b[1;32m   1119\u001b[0m         return tf_session.TF_Run(session, options,\n\u001b[1;32m   1120\u001b[0m                                  \u001b[0mfeed_dict\u001b[0m\u001b[0;34m,\u001b[0m \u001b[0mfetch_list\u001b[0m\u001b[0;34m,\u001b[0m \u001b[0mtarget_list\u001b[0m\u001b[0;34m,\u001b[0m\u001b[0;34m\u001b[0m\u001b[0m\n\u001b[0;32m-> 1121\u001b[0;31m                                  status, run_metadata)\n\u001b[0m\u001b[1;32m   1122\u001b[0m \u001b[0;34m\u001b[0m\u001b[0m\n\u001b[1;32m   1123\u001b[0m     \u001b[0;32mdef\u001b[0m \u001b[0m_prun_fn\u001b[0m\u001b[0;34m(\u001b[0m\u001b[0msession\u001b[0m\u001b[0;34m,\u001b[0m \u001b[0mhandle\u001b[0m\u001b[0;34m,\u001b[0m \u001b[0mfeed_dict\u001b[0m\u001b[0;34m,\u001b[0m \u001b[0mfetch_list\u001b[0m\u001b[0;34m)\u001b[0m\u001b[0;34m:\u001b[0m\u001b[0;34m\u001b[0m\u001b[0m\n",
      "\u001b[0;31mKeyboardInterrupt\u001b[0m: "
     ]
    }
   ],
   "source": [
    "bottleneck_features_train = model.predict_generator(valid_generator, 800, verbose = 1)"
   ]
  },
  {
   "cell_type": "code",
   "execution_count": null,
   "metadata": {
    "collapsed": true
   },
   "outputs": [],
   "source": [
    "np.save(open('bottleneck_features_valid.npy', 'w'), bottleneck_features_valid)"
   ]
  },
  {
   "cell_type": "markdown",
   "metadata": {
    "collapsed": true
   },
   "source": [
    "---\n",
    "\n",
    "次に抽出した特徴量をinputとするFC層を作る"
   ]
  },
  {
   "cell_type": "code",
   "execution_count": null,
   "metadata": {
    "collapsed": true
   },
   "outputs": [],
   "source": [
    "train_data = np.load(open('bottleneck_features_train.npy'))\n",
    "train_labels = np.array([0] * 1000 + [1] * 1000)"
   ]
  },
  {
   "cell_type": "code",
   "execution_count": null,
   "metadata": {
    "collapsed": true
   },
   "outputs": [],
   "source": [
    "valid_data = np.load(open('bottleneck_features_valid.npy'))\n",
    "valid_labels = np.array([0] * 400 + [1] * 400)"
   ]
  },
  {
   "cell_type": "code",
   "execution_count": null,
   "metadata": {
    "collapsed": true
   },
   "outputs": [],
   "source": [
    "model = Sequential()\n",
    "model.add(Flatten(input_shape=train_data.shape[1:]))\n",
    "model.add(Dense(256, activation='relu'))\n",
    "model.add(Dropout(0.5))\n",
    "model.add(Dense(1, activation='sigmoid'))\n",
    "\n",
    "model.compile(optimizer='rmsprop',\n",
    "              loss='binary_crossentropy',\n",
    "              metrics=['accuracy'])\n"
   ]
  },
  {
   "cell_type": "code",
   "execution_count": null,
   "metadata": {
    "collapsed": true
   },
   "outputs": [],
   "source": [
    "RUN_ID = 'FC'\n",
    "save_model_viz(RUN_ID, model)"
   ]
  },
  {
   "cell_type": "code",
   "execution_count": null,
   "metadata": {
    "collapsed": true
   },
   "outputs": [],
   "source": [
    "batch_size = 16\n",
    "hist = model.fit(train_data, train_labels,\n",
    "          epochs=10,\n",
    "          batch_size=batch_size,\n",
    "          validation_data=(validation_data, validation_labels))\n",
    "\n",
    "save_weights(RUN_ID, model)\n",
    "save_hist(RUN_ID, hist)"
   ]
  },
  {
   "cell_type": "code",
   "execution_count": null,
   "metadata": {
    "collapsed": true
   },
   "outputs": [],
   "source": []
  },
  {
   "cell_type": "markdown",
   "metadata": {
    "collapsed": true
   },
   "source": [
    "---\n",
    "os.renameの使い方"
   ]
  },
  {
   "cell_type": "code",
   "execution_count": 56,
   "metadata": {
    "collapsed": true
   },
   "outputs": [],
   "source": [
    "os.chdir(\"/Users/mitsuhiro/Desktop\")"
   ]
  },
  {
   "cell_type": "code",
   "execution_count": 57,
   "metadata": {},
   "outputs": [
    {
     "name": "stdout",
     "output_type": "stream",
     "text": [
      "\u001b[31mD論発表18.pptx\u001b[m\u001b[m*                 confidentialのエイリアス\r\n",
      "Workのエイリアス                \u001b[31m研究発表1.pptx\u001b[m\u001b[m*\r\n",
      "cat.14.jpg\r\n"
     ]
    }
   ],
   "source": [
    "ls "
   ]
  },
  {
   "cell_type": "code",
   "execution_count": 58,
   "metadata": {
    "collapsed": true
   },
   "outputs": [],
   "source": [
    "os.rename(\"%s/cat.14.jpg\" % \"/Users/mitsuhiro/Desktop\" , \"%s/cat.14.jpg\" % \"/Users/mitsuhiro/work\") #%の後部分が%sに入る"
   ]
  }
 ],
 "metadata": {
  "kernelspec": {
   "display_name": "Python 2",
   "language": "python",
   "name": "python2"
  },
  "language_info": {
   "codemirror_mode": {
    "name": "ipython",
    "version": 2
   },
   "file_extension": ".py",
   "mimetype": "text/x-python",
   "name": "python",
   "nbconvert_exporter": "python",
   "pygments_lexer": "ipython2",
   "version": "2.7.13"
  }
 },
 "nbformat": 4,
 "nbformat_minor": 2
}
