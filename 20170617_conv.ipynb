{
 "cells": [
  {
   "cell_type": "code",
   "execution_count": 11,
   "metadata": {
    "collapsed": true
   },
   "outputs": [],
   "source": [
    "from __future__ import print_function, division\n",
    "%matplotlib inline\n",
    "import numpy as np\n",
    "import matplotlib.pyplot as plt"
   ]
  },
  {
   "cell_type": "code",
   "execution_count": 12,
   "metadata": {
    "collapsed": true
   },
   "outputs": [],
   "source": [
    "from keras.models import Sequential\n",
    "from keras.layers import Dense, Dropout, Flatten\n",
    "from keras.layers import Conv2D, MaxPooling2D"
   ]
  },
  {
   "cell_type": "code",
   "execution_count": 13,
   "metadata": {
    "collapsed": true
   },
   "outputs": [],
   "source": [
    "import sys\n",
    "sys.path.append('C:\\\\Users\\\\254168\\\\Work\\\\intro_machine_learning')\n",
    "#unitがあるファイルにパスを追加#"
   ]
  },
  {
   "cell_type": "code",
   "execution_count": 14,
   "metadata": {
    "collapsed": true
   },
   "outputs": [],
   "source": [
    "from utils import save_model_viz, save_weights, save_hist, plot_hist\n",
    "from utils import load_mnist_3D"
   ]
  },
  {
   "cell_type": "code",
   "execution_count": 15,
   "metadata": {
    "collapsed": true
   },
   "outputs": [],
   "source": [
    "RUN_ID = 'CNN'　#convolutino neutral network#\n"
   ]
  },
  {
   "cell_type": "code",
   "execution_count": 20,
   "metadata": {
    "collapsed": true
   },
   "outputs": [],
   "source": [
    "(x_train, y_train), (x_test, y_test) = load_mnist_3D()"
   ]
  },
  {
   "cell_type": "code",
   "execution_count": 26,
   "metadata": {},
   "outputs": [
    {
     "name": "stdout",
     "output_type": "stream",
     "text": [
      "Train on 60000 samples, validate on 10000 samples\n",
      "Epoch 1/12\n",
      "60000/60000 [==============================] - 173s - loss: 0.2287 - acc: 0.9305 - val_loss: 0.0473 - val_acc: 0.9848\n",
      "Epoch 2/12\n",
      "60000/60000 [==============================] - 170s - loss: 0.0799 - acc: 0.9762 - val_loss: 0.0372 - val_acc: 0.9872\n",
      "Epoch 3/12\n",
      "60000/60000 [==============================] - 170s - loss: 0.0601 - acc: 0.9814 - val_loss: 0.0362 - val_acc: 0.9884\n",
      "Epoch 4/12\n",
      "60000/60000 [==============================] - 170s - loss: 0.0491 - acc: 0.9849 - val_loss: 0.0316 - val_acc: 0.9900\n",
      "Epoch 5/12\n",
      "60000/60000 [==============================] - 170s - loss: 0.0421 - acc: 0.9868 - val_loss: 0.0271 - val_acc: 0.9907\n",
      "Epoch 6/12\n",
      "60000/60000 [==============================] - 172s - loss: 0.0357 - acc: 0.9885 - val_loss: 0.0265 - val_acc: 0.9921\n",
      "Epoch 7/12\n",
      "60000/60000 [==============================] - 174s - loss: 0.0314 - acc: 0.9899 - val_loss: 0.0267 - val_acc: 0.9915\n",
      "Epoch 8/12\n",
      "60000/60000 [==============================] - 172s - loss: 0.0286 - acc: 0.9911 - val_loss: 0.0253 - val_acc: 0.9918\n",
      "Epoch 9/12\n",
      "60000/60000 [==============================] - 170s - loss: 0.0246 - acc: 0.9919 - val_loss: 0.0261 - val_acc: 0.9917\n",
      "Epoch 10/12\n",
      "60000/60000 [==============================] - 170s - loss: 0.0230 - acc: 0.9922 - val_loss: 0.0273 - val_acc: 0.9922\n",
      "Epoch 11/12\n",
      "60000/60000 [==============================] - 170s - loss: 0.0225 - acc: 0.9925 - val_loss: 0.0290 - val_acc: 0.9920\n",
      "Epoch 12/12\n",
      "60000/60000 [==============================] - 170s - loss: 0.0215 - acc: 0.9928 - val_loss: 0.0253 - val_acc: 0.9928\n"
     ]
    }
   ],
   "source": [
    "model = Sequential()\n",
    "model.add(Conv2D(64, (3, 3), activation='relu',input_shape=(28,28,1)))\n",
    "#64個の(3,3)のフィルター、入力が28*28の二次元データ＋チャネル数1#\n",
    "model.add(Conv2D(64, (3, 3), activation='relu'))\n",
    "model.add(MaxPooling2D((2, 2)))\n",
    "model.add(Dropout(0.25))\n",
    "model.add(Flatten())#データを一次元に\n",
    "model.add(Dense(128, activation='relu'))#128個のユニットで全結合\n",
    "model.add(Dropout(0.5))\n",
    "model.add(Dense(10, activation='softmax'))\n",
    "model.compile(optimizer = 'adam',\n",
    "              loss = 'categorical_crossentropy',\n",
    "              metrics=['accuracy'])          \n",
    "\n",
    "\n",
    "hist = model.fit(x_train, y_train, epochs=12, batch_size=128,\n",
    "                 verbose=1, validation_data=(x_test, y_test))\n",
    "\n"
   ]
  },
  {
   "cell_type": "markdown",
   "metadata": {},
   "source": [
    "# かかった時間　= 170×12 = 35分くらい #"
   ]
  }
 ],
 "metadata": {
  "kernelspec": {
   "display_name": "Python 3",
   "language": "python",
   "name": "python3"
  },
  "language_info": {
   "codemirror_mode": {
    "name": "ipython",
    "version": 3
   },
   "file_extension": ".py",
   "mimetype": "text/x-python",
   "name": "python",
   "nbconvert_exporter": "python",
   "pygments_lexer": "ipython3",
   "version": "3.5.3"
  }
 },
 "nbformat": 4,
 "nbformat_minor": 2
}
