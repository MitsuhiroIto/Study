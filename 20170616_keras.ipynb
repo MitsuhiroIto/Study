{
 "cells": [
  {
   "cell_type": "code",
   "execution_count": 20,
   "metadata": {
    "collapsed": true
   },
   "outputs": [],
   "source": [
    "from __future__ import print_function, division"
   ]
  },
  {
   "cell_type": "code",
   "execution_count": 21,
   "metadata": {
    "collapsed": true
   },
   "outputs": [],
   "source": [
    "%matplotlib inline\n",
    "import numpy as np\n",
    "import matplotlib.pyplot as plt"
   ]
  },
  {
   "cell_type": "code",
   "execution_count": 22,
   "metadata": {},
   "outputs": [],
   "source": [
    "from keras.models import Sequential\n",
    "from keras.layers import Dense"
   ]
  },
  {
   "cell_type": "code",
   "execution_count": 23,
   "metadata": {
    "collapsed": true
   },
   "outputs": [],
   "source": [
    "RUN_ID = 'mlp' ###MLP multi-layer perceptron"
   ]
  },
  {
   "cell_type": "code",
   "execution_count": 25,
   "metadata": {},
   "outputs": [],
   "source": [
    "def load_mnist_1D(categorical=True):\n",
    "    '''\n",
    "    load 1D mnist dataset w/ normalization + one-hot encoding\n",
    "    '''\n",
    "    from keras.datasets import mnist\n",
    "    (X_train, y_train), (X_test, y_test) = mnist.load_data()\n",
    "    X_train = X_train.reshape(-1,784)\n",
    "    X_train = X_train.astype('float32')/255.\n",
    "    X_test = X_test.reshape(-1,784)\n",
    "    X_test = X_test.astype('float32')/255.\n",
    "\n",
    "    if categorical == True:\n",
    "        from keras.utils import np_utils\n",
    "        y_train = np_utils.to_categorical(y_train, 10)\n",
    "        y_test = np_utils.to_categorical(y_test, 10)\n",
    "\n",
    "    return (X_train, y_train), (X_test, y_test)"
   ]
  },
  {
   "cell_type": "code",
   "execution_count": 26,
   "metadata": {
    "collapsed": true
   },
   "outputs": [],
   "source": [
    "(x_train, y_train), (x_test, y_test) = load_mnist_1D()"
   ]
  },
  {
   "cell_type": "code",
   "execution_count": 27,
   "metadata": {},
   "outputs": [
    {
     "name": "stdout",
     "output_type": "stream",
     "text": [
      "Train on 60000 samples, validate on 10000 samples\n",
      "Epoch 1/5\n",
      "60000/60000 [==============================] - 6s - loss: 0.2000 - acc: 0.9403 - val_loss: 0.1052 - val_acc: 0.9667\n",
      "Epoch 2/5\n",
      "60000/60000 [==============================] - 5s - loss: 0.0852 - acc: 0.9728 - val_loss: 0.0889 - val_acc: 0.9716\n",
      "Epoch 3/5\n",
      "60000/60000 [==============================] - 5s - loss: 0.0576 - acc: 0.9821 - val_loss: 0.1001 - val_acc: 0.9690\n",
      "Epoch 4/5\n",
      "60000/60000 [==============================] - 5s - loss: 0.0441 - acc: 0.9851 - val_loss: 0.0743 - val_acc: 0.9811\n",
      "Epoch 5/5\n",
      "60000/60000 [==============================] - 5s - loss: 0.0339 - acc: 0.9886 - val_loss: 0.0699 - val_acc: 0.9808\n"
     ]
    }
   ],
   "source": [
    "model = Sequential()\n",
    "model.add(Dense(256, input_shape=(784,), activation='relu'))\n",
    "model.add(Dense(256, activation='relu'))\n",
    "model.add(Dense(10, activation='softmax'))\n",
    "model.compile(optimizer = 'adam',\n",
    "              loss = 'categorical_crossentropy',\n",
    "              metrics=['accuracy'])\n",
    "\n",
    "hist = model.fit(x_train, y_train, epochs=5, batch_size=32,\n",
    "                 verbose=1, validation_data=(x_test, y_test))\n",
    "              "
   ]
  },
  {
   "cell_type": "code",
   "execution_count": null,
   "metadata": {
    "collapsed": true
   },
   "outputs": [],
   "source": []
  }
 ],
 "metadata": {
  "kernelspec": {
   "display_name": "Python 3",
   "language": "python",
   "name": "python3"
  },
  "language_info": {
   "codemirror_mode": {
    "name": "ipython",
    "version": 3
   },
   "file_extension": ".py",
   "mimetype": "text/x-python",
   "name": "python",
   "nbconvert_exporter": "python",
   "pygments_lexer": "ipython3",
   "version": "3.5.3"
  }
 },
 "nbformat": 4,
 "nbformat_minor": 2
}
