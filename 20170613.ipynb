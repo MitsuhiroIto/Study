{
 "cells": [
  {
   "cell_type": "code",
   "execution_count": 2,
   "metadata": {
    "collapsed": true
   },
   "outputs": [],
   "source": [
    "%matplotlib inline\n",
    "import numpy as np\n",
    "import matplotlib.pyplot as plt"
   ]
  },
  {
   "cell_type": "code",
   "execution_count": 3,
   "metadata": {
    "collapsed": true
   },
   "outputs": [],
   "source": [
    "from sklearn.datasets import load_digits"
   ]
  },
  {
   "cell_type": "code",
   "execution_count": 4,
   "metadata": {
    "collapsed": true
   },
   "outputs": [],
   "source": [
    "digits = load_digits"
   ]
  },
  {
   "cell_type": "code",
   "execution_count": 5,
   "metadata": {
    "collapsed": true
   },
   "outputs": [],
   "source": [
    "digits = load_digits()"
   ]
  },
  {
   "cell_type": "code",
   "execution_count": 6,
   "metadata": {},
   "outputs": [
    {
     "data": {
      "text/plain": [
       "(1797, 64)"
      ]
     },
     "execution_count": 6,
     "metadata": {},
     "output_type": "execute_result"
    }
   ],
   "source": [
    "digits.data.shape#６４個のデータ（数字を表す）が１７９７個"
   ]
  },
  {
   "cell_type": "code",
   "execution_count": 7,
   "metadata": {
    "scrolled": true
   },
   "outputs": [
    {
     "data": {
      "text/plain": [
       "array([[  0.,   0.,   0.,  12.,  13.,   0.,   0.,   0.],\n",
       "       [  0.,   0.,   5.,  16.,   8.,   0.,   0.,   0.],\n",
       "       [  0.,   0.,  13.,  16.,   3.,   0.,   0.,   0.],\n",
       "       [  0.,   0.,  14.,  13.,   0.,   0.,   0.,   0.],\n",
       "       [  0.,   0.,  15.,  12.,   7.,   2.,   0.,   0.],\n",
       "       [  0.,   0.,  13.,  16.,  13.,  16.,   3.,   0.],\n",
       "       [  0.,   0.,   7.,  16.,  11.,  15.,   8.,   0.],\n",
       "       [  0.,   0.,   1.,   9.,  15.,  11.,   3.,   0.]])"
      ]
     },
     "execution_count": 7,
     "metadata": {},
     "output_type": "execute_result"
    }
   ],
   "source": [
    "digits.images[6]"
   ]
  },
  {
   "cell_type": "code",
   "execution_count": 26,
   "metadata": {},
   "outputs": [
    {
     "data": {
      "text/plain": [
       "array([[  0.,   5.,  12.,  13.,  16.,  16.,   2.,   0.],\n",
       "       [  0.,  11.,  16.,  15.,   8.,   4.,   0.,   0.],\n",
       "       [  0.,   8.,  14.,  11.,   1.,   0.,   0.,   0.],\n",
       "       [  0.,   8.,  16.,  16.,  14.,   0.,   0.,   0.],\n",
       "       [  0.,   1.,   6.,   6.,  16.,   0.,   0.,   0.],\n",
       "       [  0.,   0.,   0.,   5.,  16.,   3.,   0.,   0.],\n",
       "       [  0.,   1.,   5.,  15.,  13.,   0.,   0.,   0.],\n",
       "       [  0.,   4.,  15.,  16.,   2.,   0.,   0.,   0.]])"
      ]
     },
     "execution_count": 26,
     "metadata": {},
     "output_type": "execute_result"
    }
   ],
   "source": [
    "digits.images[15]"
   ]
  },
  {
   "cell_type": "code",
   "execution_count": 40,
   "metadata": {
    "scrolled": true
   },
   "outputs": [
    {
     "data": {
      "image/png": "[encoded data removed]",
      "text/plain": [
       "<matplotlib.figure.Figure at 0x2260411ea58>"
      ]
     },
     "metadata": {},
     "output_type": "display_data"
    }
   ],
   "source": [
    "fig, axes = plt.subplots(ncols=12, figsize=(12,12)) #12等分\n",
    "\n",
    "for i in range(12):\n",
    "    ax = axes[i]\n",
    "    ax.imshow(digits.images[i], cmap='gray')\n",
    "    ax.set_axis_off()"
   ]
  },
  {
   "cell_type": "code",
   "execution_count": 49,
   "metadata": {},
   "outputs": [
    {
     "data": {
      "text/plain": [
       "<matplotlib.image.AxesImage at 0x22603c99fd0>"
      ]
     },
     "execution_count": 49,
     "metadata": {},
     "output_type": "execute_result"
    },
    {
     "data": {
      "image/png": "[encoded data removed]",
      "text/plain": [
       "<matplotlib.figure.Figure at 0x2260419a438>"
      ]
     },
     "metadata": {},
     "output_type": "display_data"
    }
   ],
   "source": [
    "plt.imshow(digits.images[0])"
   ]
  },
  {
   "cell_type": "code",
   "execution_count": 72,
   "metadata": {},
   "outputs": [
    {
     "data": {
      "image/png": "[encoded data removed]",
      "text/plain": [
       "<matplotlib.figure.Figure at 0x22605c2e898>"
      ]
     },
     "metadata": {},
     "output_type": "display_data"
    }
   ],
   "source": [
    "fig, axes = plt.subplots(ncols=10, figsize=(12,12))\n",
    "\n",
    "for i in range(9,-1,-1):\n",
    "    ax = axes[i]\n",
    "    ax.imshow(digits.images[i], cmap='gray')\n",
    "    ax.set_axis_off()"
   ]
  },
  {
   "cell_type": "code",
   "execution_count": 73,
   "metadata": {},
   "outputs": [],
   "source": [
    "l = [5,10,15,20,25]"
   ]
  },
  {
   "cell_type": "code",
   "execution_count": 71,
   "metadata": {},
   "outputs": [
    {
     "name": "stdout",
     "output_type": "stream",
     "text": [
      "9\n",
      "8\n",
      "7\n",
      "6\n",
      "5\n",
      "4\n",
      "3\n",
      "2\n",
      "1\n",
      "0\n"
     ]
    }
   ],
   "source": [
    "for i in range(9,-1,-1):\n",
    "    print (i)"
   ]
  },
  {
   "cell_type": "code",
   "execution_count": 74,
   "metadata": {},
   "outputs": [
    {
     "data": {
      "text/plain": [
       "[5, 10, 15, 20, 25]"
      ]
     },
     "execution_count": 74,
     "metadata": {},
     "output_type": "execute_result"
    }
   ],
   "source": [
    "l"
   ]
  },
  {
   "cell_type": "code",
   "execution_count": 76,
   "metadata": {},
   "outputs": [
    {
     "name": "stdout",
     "output_type": "stream",
     "text": [
      "0 5\n",
      "1 10\n",
      "2 15\n",
      "3 20\n",
      "4 25\n"
     ]
    }
   ],
   "source": [
    "for idx, value in enumerate(l):\n",
    "    print(idx, value)"
   ]
  },
  {
   "cell_type": "code",
   "execution_count": null,
   "metadata": {
    "collapsed": true
   },
   "outputs": [],
   "source": []
  },
  {
   "cell_type": "code",
   "execution_count": null,
   "metadata": {
    "collapsed": true
   },
   "outputs": [],
   "source": [
    "for i in range"
   ]
  },
  {
   "cell_type": "code",
   "execution_count": 77,
   "metadata": {},
   "outputs": [
    {
     "data": {
      "image/png": "[encoded data removed]",
      "text/plain": [
       "<matplotlib.figure.Figure at 0x22603592b70>"
      ]
     },
     "metadata": {},
     "output_type": "display_data"
    }
   ],
   "source": [
    "fig, axes = plt.subplots(ncols=10, figsize=(12,12))\n",
    "\n",
    "for i in range(10):\n",
    "    ax = axes[9-i]\n",
    "    ax.imshow(digits.images[i], cmap='gray')\n",
    "    ax.set_axis_off()"
   ]
  },
  {
   "cell_type": "code",
   "execution_count": 79,
   "metadata": {},
   "outputs": [],
   "source": [
    "from sklearn.model_selection import train_test_split"
   ]
  },
  {
   "cell_type": "code",
   "execution_count": 80,
   "metadata": {},
   "outputs": [
    {
     "data": {
      "text/plain": [
       "((1797, 64), (1797,))"
      ]
     },
     "execution_count": 80,
     "metadata": {},
     "output_type": "execute_result"
    }
   ],
   "source": [
    "digits.data.shape, digits.target.shape"
   ]
  },
  {
   "cell_type": "code",
   "execution_count": 82,
   "metadata": {},
   "outputs": [],
   "source": [
    "X_train, X_test, y_train, y_test = train_test_split(digits.data, digits.target, test_size = 0.2)\n",
    "#digits.dataは 分布、digits.targetは正解"
   ]
  },
  {
   "cell_type": "code",
   "execution_count": 85,
   "metadata": {},
   "outputs": [
    {
     "data": {
      "text/plain": [
       "(1797,)"
      ]
     },
     "execution_count": 85,
     "metadata": {},
     "output_type": "execute_result"
    }
   ],
   "source": [
    "digits.target.shape"
   ]
  },
  {
   "cell_type": "code",
   "execution_count": 88,
   "metadata": {},
   "outputs": [
    {
     "name": "stdout",
     "output_type": "stream",
     "text": [
      "[0 1 2 ..., 8 9 8]\n"
     ]
    }
   ],
   "source": [
    "print(digits.target)"
   ]
  },
  {
   "cell_type": "code",
   "execution_count": 90,
   "metadata": {},
   "outputs": [
    {
     "name": "stdout",
     "output_type": "stream",
     "text": [
      "[0 1 2 3 4 5 6 7 8 9 0 1 2 3 4]\n"
     ]
    }
   ],
   "source": [
    "print(digits.target[0:15])"
   ]
  },
  {
   "cell_type": "code",
   "execution_count": 91,
   "metadata": {},
   "outputs": [
    {
     "data": {
      "text/plain": [
       "((1437, 64), (360, 64), (1437,), (360,))"
      ]
     },
     "execution_count": 91,
     "metadata": {},
     "output_type": "execute_result"
    }
   ],
   "source": [
    "X_train.shape, X_test.shape, y_train.shape, y_test.shape"
   ]
  },
  {
   "cell_type": "code",
   "execution_count": 92,
   "metadata": {
    "collapsed": true
   },
   "outputs": [],
   "source": [
    "from sklearn.svm import SVC"
   ]
  },
  {
   "cell_type": "code",
   "execution_count": 94,
   "metadata": {
    "collapsed": true
   },
   "outputs": [],
   "source": [
    "clf = SVC() #実装　"
   ]
  },
  {
   "cell_type": "code",
   "execution_count": 96,
   "metadata": {},
   "outputs": [],
   "source": [
    "from sklearn.tree import DecisionTreeClassifier"
   ]
  },
  {
   "cell_type": "code",
   "execution_count": 97,
   "metadata": {
    "collapsed": true
   },
   "outputs": [],
   "source": [
    "clf = DecisionTreeClassifier() "
   ]
  },
  {
   "cell_type": "code",
   "execution_count": 98,
   "metadata": {},
   "outputs": [
    {
     "data": {
      "text/plain": [
       "DecisionTreeClassifier(class_weight=None, criterion='gini', max_depth=None,\n",
       "            max_features=None, max_leaf_nodes=None,\n",
       "            min_impurity_split=1e-07, min_samples_leaf=1,\n",
       "            min_samples_split=2, min_weight_fraction_leaf=0.0,\n",
       "            presort=False, random_state=None, splitter='best')"
      ]
     },
     "execution_count": 98,
     "metadata": {},
     "output_type": "execute_result"
    }
   ],
   "source": [
    "clf.fit(X_train, y_train)"
   ]
  },
  {
   "cell_type": "code",
   "execution_count": 100,
   "metadata": {},
   "outputs": [],
   "source": [
    "pred = clf.predict(X_test)"
   ]
  },
  {
   "cell_type": "code",
   "execution_count": 101,
   "metadata": {},
   "outputs": [
    {
     "data": {
      "text/plain": [
       "array([7, 0, 3, 1, 8, 8, 6, 4, 8, 9, 9, 8, 9, 3, 0, 1, 0, 9, 7, 4, 6, 0, 6,\n",
       "       1, 4, 3, 1, 5, 9, 0, 4, 1, 7, 5, 3, 5, 3, 5, 3, 7, 7, 9, 0, 9, 4, 7,\n",
       "       5, 8, 3, 1, 3, 7, 3, 5, 0, 5, 0, 6, 0, 2, 1, 5, 8, 7, 9, 9, 3, 3, 3,\n",
       "       7, 4, 6, 7, 2, 0, 6, 4, 6, 4, 9, 7, 9, 4, 6, 4, 0, 5, 8, 3, 5, 5, 2,\n",
       "       9, 7, 7, 1, 1, 2, 8, 8, 3, 1, 1, 5, 1, 9, 4, 2, 2, 8, 4, 0, 2, 0, 6,\n",
       "       1, 0, 1, 7, 5, 4, 1, 1, 5, 6, 6, 9, 1, 4, 5, 0, 9, 1, 4, 3, 4, 8, 5,\n",
       "       6, 8, 3, 5, 9, 5, 9, 3, 7, 7, 9, 2, 5, 5, 6, 6, 9, 2, 9, 5, 9, 6, 7,\n",
       "       5, 3, 1, 8, 4, 3, 6, 1, 1, 9, 1, 1, 4, 4, 8, 6, 2, 5, 8, 1, 8, 0, 2,\n",
       "       9, 0, 3, 3, 1, 4, 2, 4, 3, 4, 2, 3, 0, 5, 1, 8, 2, 7, 2, 8, 9, 0, 1,\n",
       "       2, 4, 0, 5, 5, 1, 6, 8, 7, 7, 7, 4, 4, 2, 7, 9, 5, 0, 2, 5, 8, 5, 1,\n",
       "       8, 6, 0, 8, 9, 8, 5, 1, 0, 6, 5, 8, 6, 2, 1, 9, 2, 4, 4, 6, 0, 3, 1,\n",
       "       2, 9, 2, 7, 5, 4, 7, 0, 2, 0, 7, 4, 2, 1, 2, 2, 5, 8, 7, 3, 3, 3, 5,\n",
       "       0, 1, 4, 5, 9, 9, 2, 8, 5, 3, 1, 4, 8, 7, 4, 2, 3, 6, 8, 4, 3, 8, 6,\n",
       "       1, 3, 2, 6, 7, 6, 6, 6, 0, 0, 4, 0, 5, 8, 6, 8, 3, 7, 0, 5, 6, 1, 2,\n",
       "       4, 2, 7, 7, 8, 1, 7, 5, 5, 7, 6, 3, 8, 1, 3, 8, 0, 3, 7, 4, 9, 1, 3,\n",
       "       9, 5, 5, 4, 0, 3, 7, 4, 8, 2, 2, 0, 5, 5, 6])"
      ]
     },
     "execution_count": 101,
     "metadata": {},
     "output_type": "execute_result"
    }
   ],
   "source": [
    "pred"
   ]
  },
  {
   "cell_type": "code",
   "execution_count": 102,
   "metadata": {},
   "outputs": [
    {
     "data": {
      "text/plain": [
       "array([7, 0, 3, 1, 5, 8, 6, 4, 8, 9, 9, 8, 9, 3, 0, 1, 0, 9, 7, 4, 6, 0, 6,\n",
       "       1, 7, 2, 1, 5, 9, 0, 5, 1, 7, 5, 6, 5, 3, 5, 3, 7, 7, 7, 0, 9, 4, 7,\n",
       "       5, 8, 3, 1, 3, 7, 1, 5, 0, 5, 0, 6, 0, 2, 1, 2, 3, 7, 9, 9, 1, 3, 1,\n",
       "       7, 4, 6, 7, 2, 0, 6, 4, 6, 4, 9, 8, 9, 4, 6, 4, 0, 5, 8, 3, 5, 5, 9,\n",
       "       9, 7, 7, 1, 7, 2, 2, 8, 3, 1, 1, 5, 1, 9, 6, 2, 2, 8, 4, 5, 2, 0, 6,\n",
       "       1, 0, 1, 7, 5, 4, 1, 1, 5, 6, 6, 9, 1, 4, 7, 0, 9, 1, 4, 3, 8, 8, 5,\n",
       "       6, 8, 3, 5, 9, 5, 9, 8, 7, 8, 9, 2, 5, 5, 6, 6, 9, 2, 9, 5, 9, 6, 7,\n",
       "       5, 3, 1, 9, 4, 3, 6, 1, 1, 5, 1, 1, 4, 4, 8, 6, 2, 5, 8, 9, 8, 0, 2,\n",
       "       9, 0, 3, 3, 1, 4, 7, 4, 3, 4, 2, 3, 0, 5, 1, 8, 7, 7, 5, 8, 9, 0, 1,\n",
       "       2, 4, 0, 5, 6, 1, 6, 2, 7, 9, 7, 4, 4, 2, 7, 9, 5, 0, 2, 6, 2, 5, 1,\n",
       "       8, 6, 0, 8, 9, 8, 5, 4, 0, 6, 5, 8, 6, 2, 1, 9, 2, 1, 4, 6, 0, 3, 1,\n",
       "       2, 9, 2, 7, 5, 4, 7, 0, 2, 0, 7, 4, 2, 1, 2, 2, 5, 8, 7, 3, 9, 3, 7,\n",
       "       0, 1, 4, 5, 9, 9, 2, 8, 5, 3, 1, 0, 8, 7, 7, 2, 3, 6, 8, 4, 3, 8, 6,\n",
       "       1, 3, 2, 6, 7, 6, 6, 6, 0, 0, 4, 0, 5, 8, 6, 8, 3, 7, 0, 5, 6, 1, 5,\n",
       "       4, 2, 7, 7, 8, 1, 3, 9, 5, 7, 6, 3, 8, 1, 3, 2, 0, 8, 4, 4, 5, 1, 3,\n",
       "       9, 5, 5, 4, 0, 3, 7, 4, 8, 3, 2, 0, 5, 5, 6])"
      ]
     },
     "execution_count": 102,
     "metadata": {},
     "output_type": "execute_result"
    }
   ],
   "source": [
    "y_test"
   ]
  },
  {
   "cell_type": "code",
   "execution_count": 106,
   "metadata": {
    "collapsed": true
   },
   "outputs": [],
   "source": [
    "from sklearn.metrics import accuracy_score"
   ]
  },
  {
   "cell_type": "code",
   "execution_count": 109,
   "metadata": {},
   "outputs": [
    {
     "data": {
      "text/plain": [
       "0.87222222222222223"
      ]
     },
     "execution_count": 109,
     "metadata": {},
     "output_type": "execute_result"
    }
   ],
   "source": [
    "accuracy_score(y_test, pred)"
   ]
  },
  {
   "cell_type": "code",
   "execution_count": 110,
   "metadata": {},
   "outputs": [
    {
     "data": {
      "text/plain": [
       "1.0"
      ]
     },
     "execution_count": 110,
     "metadata": {},
     "output_type": "execute_result"
    }
   ],
   "source": [
    "accuracy_score(y_test, y_test)"
   ]
  },
  {
   "cell_type": "code",
   "execution_count": 111,
   "metadata": {
    "scrolled": true
   },
   "outputs": [
    {
     "data": {
      "text/plain": [
       "SVC(C=1.0, cache_size=200, class_weight=None, coef0=0.0,\n",
       "  decision_function_shape=None, degree=3, gamma='auto', kernel='rbf',\n",
       "  max_iter=-1, probability=False, random_state=None, shrinking=True,\n",
       "  tol=0.001, verbose=False)"
      ]
     },
     "execution_count": 111,
     "metadata": {},
     "output_type": "execute_result"
    }
   ],
   "source": [
    "from sklearn.svm import SVC\n",
    "clf = SVC()\n",
    "clf.fit(X_train, y_train)\n"
   ]
  },
  {
   "cell_type": "code",
   "execution_count": 112,
   "metadata": {},
   "outputs": [
    {
     "data": {
      "text/plain": [
       "0.45555555555555555"
      ]
     },
     "execution_count": 112,
     "metadata": {},
     "output_type": "execute_result"
    }
   ],
   "source": [
    "pred = clf.predict(X_test)\n",
    "accuracy_score(y_test, pred)"
   ]
  },
  {
   "cell_type": "code",
   "execution_count": 116,
   "metadata": {},
   "outputs": [
    {
     "data": {
      "text/plain": [
       "BernoulliRBM(batch_size=10, learning_rate=0.1, n_components=256, n_iter=10,\n",
       "       random_state=None, verbose=0)"
      ]
     },
     "execution_count": 116,
     "metadata": {},
     "output_type": "execute_result"
    }
   ],
   "source": [
    "from sklearn.neural_network import BernoulliRBM\n",
    "clf = BernoulliRBM()\n",
    "clf.fit(X_train, y_train)"
   ]
  },
  {
   "cell_type": "code",
   "execution_count": 117,
   "metadata": {},
   "outputs": [
    {
     "ename": "AttributeError",
     "evalue": "'BernoulliRBM' object has no attribute 'predict'",
     "output_type": "error",
     "traceback": [
      "\u001b[1;31m---------------------------------------------------------------------------\u001b[0m",
      "\u001b[1;31mAttributeError\u001b[0m                            Traceback (most recent call last)",
      "\u001b[1;32m<ipython-input-117-a3d57c1e9366>\u001b[0m in \u001b[0;36m<module>\u001b[1;34m()\u001b[0m\n\u001b[1;32m----> 1\u001b[1;33m \u001b[0mpred\u001b[0m \u001b[1;33m=\u001b[0m \u001b[0mclf\u001b[0m\u001b[1;33m.\u001b[0m\u001b[0mpredict\u001b[0m\u001b[1;33m(\u001b[0m\u001b[0mX_test\u001b[0m\u001b[1;33m)\u001b[0m\u001b[1;33m\u001b[0m\u001b[0m\n\u001b[0m\u001b[0;32m      2\u001b[0m \u001b[0maccuracy_score\u001b[0m\u001b[1;33m(\u001b[0m\u001b[0my_test\u001b[0m\u001b[1;33m,\u001b[0m \u001b[0mpred\u001b[0m\u001b[1;33m)\u001b[0m\u001b[1;33m\u001b[0m\u001b[0m\n",
      "\u001b[1;31mAttributeError\u001b[0m: 'BernoulliRBM' object has no attribute 'predict'"
     ]
    }
   ],
   "source": [
    "pred = clf.predict(X_test)\n",
    "accuracy_score(y_test, pred)"
   ]
  },
  {
   "cell_type": "code",
   "execution_count": 122,
   "metadata": {},
   "outputs": [
    {
     "data": {
      "text/plain": [
       "0.84444444444444444"
      ]
     },
     "execution_count": 122,
     "metadata": {},
     "output_type": "execute_result"
    }
   ],
   "source": [
    "clf = DecisionTreeClassifier() \n",
    "clf.fit(X_train, y_train)\n",
    "pred = clf.predict(X_test)\n",
    "accuracy_score(y_test, pred)"
   ]
  },
  {
   "cell_type": "code",
   "execution_count": 124,
   "metadata": {},
   "outputs": [
    {
     "data": {
      "text/plain": [
       "['Desi.model']"
      ]
     },
     "execution_count": 124,
     "metadata": {},
     "output_type": "execute_result"
    }
   ],
   "source": [
    "from sklearn.externals import joblib\n",
    "joblib.dump(clf,'Desi.model')"
   ]
  },
  {
   "cell_type": "code",
   "execution_count": 127,
   "metadata": {
    "collapsed": true
   },
   "outputs": [],
   "source": [
    "from sklearn.externals import joblib\n",
    "clf = joblib.load('Desi.model') "
   ]
  }
 ],
 "metadata": {
  "kernelspec": {
   "display_name": "Python 3",
   "language": "python",
   "name": "python3"
  },
  "language_info": {
   "codemirror_mode": {
    "name": "ipython",
    "version": 3
   },
   "file_extension": ".py",
   "mimetype": "text/x-python",
   "name": "python",
   "nbconvert_exporter": "python",
   "pygments_lexer": "ipython3",
   "version": "3.6.1"
  }
 },
 "nbformat": 4,
 "nbformat_minor": 2
}
