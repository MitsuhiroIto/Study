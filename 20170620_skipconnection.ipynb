{
 "cells": [
  {
   "cell_type": "markdown",
   "metadata": {},
   "source": [
    "# skip connectionのお勉強\n",
    "\n",
    "\n",
    "*20170620 Mitsuhiro Ito*"
   ]
  },
  {
   "cell_type": "code",
   "execution_count": 1,
   "metadata": {},
   "outputs": [
    {
     "name": "stderr",
     "output_type": "stream",
     "text": [
      "Using TensorFlow backend.\n"
     ]
    }
   ],
   "source": [
    "from keras.optimizers import Adam\n",
    "from keras.models import Model\n",
    "from keras.layers.core import Dense, Dropout, Activation\n",
    "from keras.layers import Input, merge"
   ]
  },
  {
   "cell_type": "code",
   "execution_count": 2,
   "metadata": {
    "collapsed": true
   },
   "outputs": [],
   "source": [
    "lr = 0.0001 # lerning rate"
   ]
  },
  {
   "cell_type": "code",
   "execution_count": 3,
   "metadata": {
    "collapsed": true
   },
   "outputs": [],
   "source": [
    "nb_dim = (512,) #inputのデータ形状\n",
    "nb_cat = 4 # 気にしなくていい"
   ]
  },
  {
   "cell_type": "code",
   "execution_count": 7,
   "metadata": {},
   "outputs": [
    {
     "name": "stderr",
     "output_type": "stream",
     "text": [
      "C:\\Users\\254168\\AppData\\Local\\Continuum\\Anaconda3\\envs\\tensorflow\\lib\\site-packages\\ipykernel_launcher.py:5: UserWarning: The `merge` function is deprecated and will be removed after 08/2017. Use instead layers from `keras.layers.merge`, e.g. `add`, `concatenate`, etc.\n",
      "  \"\"\"\n",
      "C:\\Users\\254168\\AppData\\Local\\Continuum\\Anaconda3\\envs\\tensorflow\\lib\\site-packages\\keras\\legacy\\layers.py:460: UserWarning: The `Merge` layer is deprecated and will be removed after 08/2017. Use instead layers from `keras.layers.merge`, e.g. `add`, `concatenate`, etc.\n",
      "  name=name)\n",
      "C:\\Users\\254168\\AppData\\Local\\Continuum\\Anaconda3\\envs\\tensorflow\\lib\\site-packages\\ipykernel_launcher.py:10: UserWarning: The `merge` function is deprecated and will be removed after 08/2017. Use instead layers from `keras.layers.merge`, e.g. `add`, `concatenate`, etc.\n",
      "  # Remove the CWD from sys.path while we load stuff.\n",
      "C:\\Users\\254168\\AppData\\Local\\Continuum\\Anaconda3\\envs\\tensorflow\\lib\\site-packages\\ipykernel_launcher.py:15: UserWarning: The `merge` function is deprecated and will be removed after 08/2017. Use instead layers from `keras.layers.merge`, e.g. `add`, `concatenate`, etc.\n",
      "  from ipykernel import kernelapp as app\n",
      "C:\\Users\\254168\\AppData\\Local\\Continuum\\Anaconda3\\envs\\tensorflow\\lib\\site-packages\\ipykernel_launcher.py:20: UserWarning: Update your `Model` call to the Keras 2 API: `Model(inputs=[<tf.Tenso..., name=\"generator_upsampling\", outputs=[<tf.Tenso...)`\n"
     ]
    }
   ],
   "source": [
    "x0 = Input(shape=nb_dim, name=\"input\")\n",
    "x1 = Dense(512)(x0) #512 ユニット数\n",
    "x1 = Activation(\"elu\")(x1)\n",
    "x1 = Dropout(0.5)(x1)\n",
    "x1 = merge([x0, x1], mode=\"sum\") #x0とx1をmergeすることで差分だけを学習することになる skip conncection\n",
    "\n",
    "x2 = Dense(512)(x1)\n",
    "x2 = Activation(\"elu\")(x2)\n",
    "x2 = Dropout(0.5)(x2)\n",
    "x2 = merge([x1, x2], mode=\"sum\")\n",
    "\n",
    "x3 = Dense(512)(x2)\n",
    "x3 = Activation(\"elu\")(x3)\n",
    "x3 = Dropout(0.5)(x3)\n",
    "x3 = merge([x2, x3], mode=\"sum\")\n",
    "\n",
    "x4 = Dense(nb_cat+1)(x3)\n",
    "x4 = Activation('softmax')(x4)\n",
    "\n",
    "model = Model(input=[x0], output=[x4], name=\"generator_upsampling\")\n",
    "model.compile(loss='categorical_crossentropy', optimizer=Adam(lr=lr), metrics=['accuracy'])\n"
   ]
  },
  {
   "cell_type": "markdown",
   "metadata": {},
   "source": [
    "NNの作り方には2通りある\n",
    "1.model=Sequentialとしmodel.addで順々に追加していく方法\n",
    "　簡単だが今回のようなskip connectionとかはできない\n",
    "2.model=Model としてModel(input = [x0], output = [xn])で作成\n",
    " 並列構造がつくりやすい\n"
   ]
  }
 ],
 "metadata": {
  "kernelspec": {
   "display_name": "Python 3",
   "language": "python",
   "name": "python3"
  },
  "language_info": {
   "codemirror_mode": {
    "name": "ipython",
    "version": 3
   },
   "file_extension": ".py",
   "mimetype": "text/x-python",
   "name": "python",
   "nbconvert_exporter": "python",
   "pygments_lexer": "ipython3",
   "version": "3.5.2"
  }
 },
 "nbformat": 4,
 "nbformat_minor": 2
}
